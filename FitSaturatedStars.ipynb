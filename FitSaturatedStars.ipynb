{
 "cells": [
  {
   "cell_type": "code",
   "execution_count": null,
   "id": "350c7452-84eb-4719-97d7-78191ceea254",
   "metadata": {},
   "outputs": [],
   "source": [
    "import photutils"
   ]
  },
  {
   "cell_type": "code",
   "execution_count": null,
   "id": "280ce42e-c511-4dfa-bb15-011a410e7acd",
   "metadata": {},
   "outputs": [],
   "source": [
    "from photutils import CircularAperture, EPSFBuilder, find_peaks, CircularAnnulus\n",
    "from photutils.detection import DAOStarFinder, IRAFStarFinder\n",
    "from photutils.psf import DAOGroup, IntegratedGaussianPRF, extract_stars, IterativelySubtractedPSFPhotometry, BasicPSFPhotometry\n",
    "from photutils.background import MMMBackground\n",
    "from photutils.background import MMMBackground, MADStdBackgroundRMS\n",
    "from astropy.modeling.fitting import LevMarLSQFitter"
   ]
  },
  {
   "cell_type": "code",
   "execution_count": null,
   "id": "508dd6c5-c568-454b-a3e0-a874948ba54d",
   "metadata": {},
   "outputs": [],
   "source": [
    "import numpy as np\n",
    "from astropy.stats import mad_std\n",
    "from astropy import stats"
   ]
  },
  {
   "cell_type": "code",
   "execution_count": null,
   "id": "5b147bee-a283-4780-b323-5d7575bf3d3e",
   "metadata": {},
   "outputs": [],
   "source": [
    "from astropy.io import fits\n",
    "from astropy import wcs\n",
    "from astropy.table import Table"
   ]
  },
  {
   "cell_type": "code",
   "execution_count": null,
   "id": "4f893219-ab0a-49bd-b938-18b915e68b4b",
   "metadata": {},
   "outputs": [],
   "source": [
    "from photutils.psf import EPSFFitter\n",
    "from photutils.psf.epsf_stars import extract_stars\n",
    "from astropy.nddata import NDData"
   ]
  },
  {
   "cell_type": "code",
   "execution_count": null,
   "id": "2fa07c46-7f3b-4916-915f-9dccb7fbcc90",
   "metadata": {},
   "outputs": [],
   "source": [
    "from astropy.convolution import convolve, convolve_fft, Gaussian2DKernel"
   ]
  },
  {
   "cell_type": "code",
   "execution_count": null,
   "id": "1b300b14-fd17-4f03-872e-51b42c5db58d",
   "metadata": {},
   "outputs": [],
   "source": [
    "from astroquery.svo_fps import SvoFps"
   ]
  },
  {
   "cell_type": "code",
   "execution_count": null,
   "id": "796ee223-796d-4990-8ea3-63763f1584aa",
   "metadata": {},
   "outputs": [],
   "source": [
    "from astropy import units as u"
   ]
  },
  {
   "cell_type": "code",
   "execution_count": null,
   "id": "a9a9a4bd-0a98-4605-9920-e29f960ebb71",
   "metadata": {},
   "outputs": [],
   "source": [
    "import os\n",
    "os.chdir('/orange/adamginsburg/jwst/jw02731/background_estimation/')"
   ]
  },
  {
   "cell_type": "code",
   "execution_count": null,
   "id": "bdd54f36-297c-414c-92f1-677030f41600",
   "metadata": {},
   "outputs": [],
   "source": [
    "import pylab as pl\n",
    "pl.rcParams['figure.facecolor'] = 'w'"
   ]
  },
  {
   "cell_type": "code",
   "execution_count": null,
   "id": "c96ae905-44bd-4c8c-857d-9ce1b73ece55",
   "metadata": {},
   "outputs": [],
   "source": [
    "im1 = fits.open('/orange/adamginsburg/jwst/jw02731/L3/t/jw02731-o001_t017_nircam_clear-f444w_i2d.fits')\n",
    "data = im1[1].data\n",
    "con = im1[3].data"
   ]
  },
  {
   "cell_type": "code",
   "execution_count": null,
   "id": "dde04e63-2918-4c69-bb77-653717daa5c8",
   "metadata": {},
   "outputs": [],
   "source": [
    "instrument = im1[0].header['INSTRUME']\n",
    "telescope = im1[0].header['TELESCOP']\n",
    "filt = im1[0].header['FILTER']\n",
    "wavelength_table = SvoFps.get_transmission_data(f'{telescope}/{instrument}.{filt}')\n",
    "obsdate = im1[0].header['DATE-OBS']"
   ]
  },
  {
   "cell_type": "code",
   "execution_count": null,
   "id": "a77004f5-edb2-4170-9b27-bc7611101ad7",
   "metadata": {},
   "outputs": [],
   "source": [
    "filter_table = SvoFps.get_filter_list(facility=telescope, instrument=instrument)\n",
    "filter_table.add_index('filterID')\n",
    "instrument = 'NIRCam'\n",
    "eff_wavelength = filter_table.loc[f'{telescope}/{instrument}.{filt}']['WavelengthEff'] * u.AA"
   ]
  },
  {
   "cell_type": "code",
   "execution_count": null,
   "id": "8a391609-1a05-4567-8a7a-cc2ee7b314b7",
   "metadata": {},
   "outputs": [],
   "source": [
    "fwhm = (1.22 * eff_wavelength / (6.5*u.m)).to(u.arcsec, u.dimensionless_angles())\n",
    "fwhm"
   ]
  },
  {
   "cell_type": "code",
   "execution_count": null,
   "id": "d476444e-03f2-43d0-8fbb-bd1a18edde02",
   "metadata": {},
   "outputs": [],
   "source": [
    "ww = wcs.WCS(im1[1].header)\n",
    "pixscale = ww.proj_plane_pixel_area()**0.5\n",
    "fwhm_pix = (fwhm / pixscale).decompose().value\n",
    "fwhm_pix"
   ]
  },
  {
   "cell_type": "code",
   "execution_count": null,
   "id": "da8fb180-eafc-4826-ad93-6798f919c73c",
   "metadata": {},
   "outputs": [],
   "source": [
    "import os\n",
    "os.environ['WEBBPSF_PATH'] = '/orange/adamginsburg/jwst/webbpsf-data/'\n",
    "import webbpsf"
   ]
  },
  {
   "cell_type": "code",
   "execution_count": null,
   "id": "e5b6cb73-75b4-4f50-b442-2ebbdf54349b",
   "metadata": {},
   "outputs": [],
   "source": [
    "import webbpsf\n",
    "nc = webbpsf.NIRCam()\n",
    "nc.filter =  'F444W'\n",
    "nc.load_wss_opd_by_date(f'{obsdate}T00:00:00')\n",
    "psf = nc.calc_psf(oversample=4, fov_pixels=31)     # returns an astropy.io.fits.HDUlist containing PSF and header"
   ]
  },
  {
   "cell_type": "code",
   "execution_count": null,
   "id": "197d1b4a-5232-48c5-a71d-b7abb0166251",
   "metadata": {},
   "outputs": [],
   "source": [
    "pl.imshow(data[2200:2300,4207:4300], origin='lower')\n",
    "pl.colorbar()"
   ]
  },
  {
   "cell_type": "code",
   "execution_count": null,
   "id": "49571a5f-ebc6-4d90-92bc-ec77bea754ca",
   "metadata": {},
   "outputs": [],
   "source": [
    "from scipy.ndimage import label, find_objects, center_of_mass, sum_labels"
   ]
  },
  {
   "cell_type": "code",
   "execution_count": null,
   "id": "8f4b1367-4532-4a3c-a29e-e454b5fbf799",
   "metadata": {},
   "outputs": [],
   "source": [
    "nrc = webbpsf.NIRCam()\n",
    "nrc.filter =  'F444W'\n",
    "grid = nrc.psf_grid(num_psfs=16, all_detectors=False)"
   ]
  },
  {
   "cell_type": "code",
   "execution_count": null,
   "id": "681d90d4-e2bb-4bbb-9606-84d9151077c2",
   "metadata": {},
   "outputs": [],
   "source": [
    "from scipy import ndimage"
   ]
  },
  {
   "cell_type": "code",
   "execution_count": null,
   "id": "7f011dc5-6b32-410c-94e0-21bb87ffe87d",
   "metadata": {},
   "outputs": [],
   "source": [
    "from tqdm.notebook import tqdm"
   ]
  },
  {
   "cell_type": "code",
   "execution_count": null,
   "id": "dabedf53-1cb7-491f-85ce-bb50633207c7",
   "metadata": {},
   "outputs": [],
   "source": [
    "from astropy.visualization import simple_norm"
   ]
  },
  {
   "cell_type": "code",
   "execution_count": null,
   "id": "d8ba9c09-e5ee-451c-b3cc-a33fa0dd8cda",
   "metadata": {},
   "outputs": [],
   "source": [
    "%run ../code/starfinding.py"
   ]
  },
  {
   "cell_type": "code",
   "execution_count": null,
   "id": "8b245bec-895d-41ed-97e2-6f0dcdb88081",
   "metadata": {},
   "outputs": [],
   "source": [
    "daogroup = DAOGroup(crit_separation=8)\n",
    "\n",
    "phot = BasicPSFPhotometry(finder=finder_maker(),\n",
    "                          group_maker=daogroup,\n",
    "                          bkg_estimator=None, # must be none or it un-saturates pixels\n",
    "                          psf_model=grid,\n",
    "                          fitter=LevMarLSQFitter(),\n",
    "                          fitshape=(101, 101),\n",
    "                          aperture_radius=5*fwhm_pix)"
   ]
  },
  {
   "cell_type": "code",
   "execution_count": null,
   "id": "0ccd6ce6-dbdb-499a-abe9-3dc03cef1f80",
   "metadata": {},
   "outputs": [],
   "source": [
    "result = phot(data[1000:2500,1000:2500], mask=ndimage.binary_dilation(data[1000:2500,1000:2500]==0))"
   ]
  },
  {
   "cell_type": "code",
   "execution_count": null,
   "id": "676b2532-feff-474b-827d-b9dde64064e0",
   "metadata": {},
   "outputs": [],
   "source": [
    "resid = phot.get_residual_image()"
   ]
  },
  {
   "cell_type": "code",
   "execution_count": null,
   "id": "5d9b0037-d669-4c6d-9fe3-17553fb4501f",
   "metadata": {},
   "outputs": [],
   "source": [
    "pl.figure(figsize=(10,5))\n",
    "slc = slice(560,680),slice(830,950)\n",
    "norm = simple_norm(data[1000:2500,1000:2500][slc], stretch='asinh')\n",
    "msk = data[1000:2500,1000:2500][slc] != 0\n",
    "pl.subplot(1,2,1).imshow(data[1000:2500,1000:2500][slc]*msk, origin='lower', norm=norm)\n",
    "pl.subplot(1,2,2).imshow(resid[slc]*msk, origin='lower', norm=norm)"
   ]
  },
  {
   "cell_type": "code",
   "execution_count": null,
   "id": "40986198-d93b-49d1-8627-6514632ba01b",
   "metadata": {},
   "outputs": [],
   "source": [
    "finder_maker(min_size=100, max_size=200)(data)"
   ]
  },
  {
   "cell_type": "code",
   "execution_count": null,
   "id": "6cb99531-dd3e-4186-bc57-788200dac9b4",
   "metadata": {},
   "outputs": [],
   "source": [
    "%run code/starfinding.py"
   ]
  },
  {
   "cell_type": "code",
   "execution_count": null,
   "id": "36d64364-0105-49fc-a741-96074f7b0277",
   "metadata": {},
   "outputs": [],
   "source": [
    "len(finder_maker(min_size=0, max_size=200, min_flux=500)(data))"
   ]
  },
  {
   "cell_type": "code",
   "execution_count": null,
   "id": "67805403-4f35-4d20-a38d-139b5c710c98",
   "metadata": {},
   "outputs": [],
   "source": []
  },
  {
   "cell_type": "code",
   "execution_count": null,
   "id": "0726cb14-2000-4c74-88d1-b9f179cf82ce",
   "metadata": {},
   "outputs": [],
   "source": []
  },
  {
   "cell_type": "code",
   "execution_count": null,
   "id": "74312970-6d39-4055-9310-d9c550f84d1b",
   "metadata": {},
   "outputs": [],
   "source": []
  },
  {
   "cell_type": "code",
   "execution_count": null,
   "id": "73d9bd86-071c-4793-8ab3-e31c0376104f",
   "metadata": {},
   "outputs": [],
   "source": [
    "from photutils.psf import EPSFModel\n",
    "epsf_model = EPSFModel(data=fits.getdata('F444W_ePSF_quadratic_filtered-background-subtracted.fits'))"
   ]
  },
  {
   "cell_type": "code",
   "execution_count": null,
   "id": "b35df1b3-e57b-4a07-b657-671834980a29",
   "metadata": {},
   "outputs": [],
   "source": []
  },
  {
   "cell_type": "code",
   "execution_count": null,
   "id": "7805eee3-d880-49e1-a015-36a9e9c7f9f5",
   "metadata": {},
   "outputs": [],
   "source": []
  },
  {
   "cell_type": "code",
   "execution_count": null,
   "id": "7359d749-0522-4d8d-b5de-37e57fcda796",
   "metadata": {},
   "outputs": [],
   "source": []
  },
  {
   "cell_type": "markdown",
   "id": "b53925ba-6820-4307-aa30-5ce717fc0f11",
   "metadata": {},
   "source": [
    "# Fit the background-subtracted data"
   ]
  },
  {
   "cell_type": "code",
   "execution_count": null,
   "id": "f83a89d8-bf06-4772-bc5a-7030ad56d34e",
   "metadata": {},
   "outputs": [],
   "source": [
    "im1 = fits.open('/orange/adamginsburg/jwst/jw02731/L3/t/jw02731-o001_t017_nircam_clear-f444w_i2d.fits')\n",
    "origdata = im1[1].data\n",
    "im2 = fits.open('/orange/adamginsburg/jwst/jw02731/background_estimation/F444W_filter-based-background-subtraction.fits')\n",
    "data = im2[0].data\n",
    "data[origdata == 0] = 0"
   ]
  },
  {
   "cell_type": "code",
   "execution_count": null,
   "id": "43af0483-9fa2-4a53-9a2b-4dfbc6030c8c",
   "metadata": {},
   "outputs": [],
   "source": [
    "phot = BasicPSFPhotometry(finder=finder_maker(min_size=100, max_size=200),\n",
    "                          group_maker=daogroup,\n",
    "                          bkg_estimator=None, # must be none or it un-saturates pixels\n",
    "                          psf_model=epsf_model,\n",
    "                          fitter=LevMarLSQFitter(),\n",
    "                          fitshape=101,\n",
    "                          aperture_radius=15*fwhm_pix)\n",
    "brightest_result = phot(data, mask=ndimage.binary_dilation(data==0, iterations=1))"
   ]
  },
  {
   "cell_type": "code",
   "execution_count": null,
   "id": "f000c4b8-4acd-4ff4-aaeb-b767f86541f0",
   "metadata": {},
   "outputs": [],
   "source": [
    "resid = brightest_resid = phot.get_residual_image()"
   ]
  },
  {
   "cell_type": "code",
   "execution_count": null,
   "id": "92566b8c-b5c0-48f9-9fbd-379dac3c7370",
   "metadata": {},
   "outputs": [],
   "source": [
    "stars_tbl = Table()\n",
    "stars_tbl['x'] = brightest_result['x_fit']\n",
    "stars_tbl['y'] = brightest_result['y_fit']\n",
    "\n",
    "brightest_stars = extract_stars(NDData(data), stars_tbl, size=251)"
   ]
  },
  {
   "cell_type": "code",
   "execution_count": null,
   "id": "b6df519a-008f-44fc-aa70-b42acab0f6b4",
   "metadata": {},
   "outputs": [],
   "source": [
    "star = brightest_stars[0]\n",
    "\n",
    "pl.figure(figsize=(10,5))\n",
    "slc = star.slices\n",
    "norm = simple_norm(data[slc], stretch='asinh', max_percent=99.5, min_percent=0.001)\n",
    "msk = data[slc] != 0\n",
    "pl.subplot(1,2,1).imshow(data[slc]*msk, origin='lower', norm=norm)\n",
    "pl.subplot(1,2,2).imshow(resid[slc]*msk, origin='lower', norm=norm)"
   ]
  },
  {
   "cell_type": "code",
   "execution_count": null,
   "id": "9ddae435-c28d-4f87-abe7-3e38ff826ea6",
   "metadata": {},
   "outputs": [],
   "source": [
    "star = brightest_stars[1]\n",
    "\n",
    "pl.figure(figsize=(10,5))\n",
    "slc = star.slices\n",
    "norm = simple_norm(data[slc], stretch='asinh', max_percent=99.5, min_percent=0.001)\n",
    "msk = data[slc] != 0\n",
    "pl.subplot(1,2,1).imshow(data[slc]*msk, origin='lower', norm=norm)\n",
    "pl.subplot(1,2,2).imshow(resid[slc]*msk, origin='lower', norm=norm)"
   ]
  },
  {
   "cell_type": "code",
   "execution_count": null,
   "id": "5ceaefd9-412c-4a36-b264-d0f048afdbf5",
   "metadata": {},
   "outputs": [],
   "source": [
    "star = brightest_stars[2]\n",
    "\n",
    "pl.figure(figsize=(10,5))\n",
    "slc = star.slices\n",
    "norm = simple_norm(data[slc], stretch='asinh', max_percent=99.5, min_percent=0.001)\n",
    "msk = data[slc] != 0\n",
    "pl.subplot(1,2,1).imshow(data[slc]*msk, origin='lower', norm=norm)\n",
    "pl.subplot(1,2,2).imshow(resid[slc]*msk, origin='lower', norm=norm)"
   ]
  },
  {
   "cell_type": "code",
   "execution_count": null,
   "id": "3ce82645-79af-4c17-b9a7-c04c47c52b88",
   "metadata": {},
   "outputs": [],
   "source": [
    "star = brightest_stars[3]\n",
    "\n",
    "pl.figure(figsize=(10,5))\n",
    "slc = star.slices\n",
    "norm = simple_norm(data[slc], stretch='asinh', max_percent=99.5, min_percent=0.001)\n",
    "msk = data[slc] != 0\n",
    "pl.subplot(1,2,1).imshow(data[slc]*msk, origin='lower', norm=norm)\n",
    "pl.subplot(1,2,2).imshow(resid[slc]*msk, origin='lower', norm=norm)"
   ]
  },
  {
   "cell_type": "code",
   "execution_count": null,
   "id": "db04a9a5-49e3-4f1f-a2ef-d0b617e4b5ac",
   "metadata": {},
   "outputs": [],
   "source": [
    "star = brightest_stars[4]\n",
    "\n",
    "pl.figure(figsize=(10,5))\n",
    "slc = star.slices\n",
    "norm = simple_norm(data[slc], stretch='asinh', max_percent=99.5, min_percent=0.001)\n",
    "msk = data[slc] != 0\n",
    "pl.subplot(1,2,1).imshow(data[slc]*msk, origin='lower', norm=norm)\n",
    "pl.subplot(1,2,2).imshow(resid[slc]*msk, origin='lower', norm=norm)"
   ]
  },
  {
   "cell_type": "code",
   "execution_count": null,
   "id": "880c7d11-555f-4e43-84e5-ca64dbfdffcc",
   "metadata": {},
   "outputs": [],
   "source": []
  },
  {
   "cell_type": "code",
   "execution_count": null,
   "id": "0660e52b-a3a4-4dbe-9016-2338dff49ec0",
   "metadata": {},
   "outputs": [],
   "source": []
  },
  {
   "cell_type": "code",
   "execution_count": null,
   "id": "1e5c2404-42b9-4b9b-977b-48c79f5f4500",
   "metadata": {},
   "outputs": [],
   "source": []
  },
  {
   "cell_type": "code",
   "execution_count": null,
   "id": "49a4d3e6-4b62-48da-ab55-afcf526eb870",
   "metadata": {},
   "outputs": [],
   "source": [
    "phot = BasicPSFPhotometry(finder=finder_maker(min_size=50, max_size=100),\n",
    "                          group_maker=daogroup,\n",
    "                          bkg_estimator=None, # must be none or it un-saturates pixels\n",
    "                          psf_model=grid,\n",
    "                          fitter=LevMarLSQFitter(),\n",
    "                          fitshape=101,\n",
    "                          aperture_radius=15*fwhm_pix)\n",
    "next_brightest_result = phot(brightest_resid, mask=ndimage.binary_dilation(data==0, iterations=1))"
   ]
  },
  {
   "cell_type": "code",
   "execution_count": null,
   "id": "538fe546-d0f9-4453-92c4-996db1eb0808",
   "metadata": {},
   "outputs": [],
   "source": [
    "next_brightest_resid = resid = phot.get_residual_image()"
   ]
  },
  {
   "cell_type": "code",
   "execution_count": null,
   "id": "4df3dd39-35e2-44ba-90d8-8c5822f99148",
   "metadata": {},
   "outputs": [],
   "source": [
    "stars_tbl = Table()\n",
    "stars_tbl['x'] = next_brightest_result['x_fit']\n",
    "stars_tbl['y'] = next_brightest_result['y_fit']\n",
    "\n",
    "next_brightest_stars = extract_stars(NDData(data), stars_tbl, size=251)"
   ]
  },
  {
   "cell_type": "code",
   "execution_count": null,
   "id": "82955094-39cc-4091-bdf7-83b68cd08683",
   "metadata": {},
   "outputs": [],
   "source": [
    "star = next_brightest_stars[0]\n",
    "\n",
    "pl.figure(figsize=(10,5))\n",
    "slc = star.slices\n",
    "norm = simple_norm(data[slc], stretch='asinh', max_percent=99.5, min_percent=0.001)\n",
    "msk = data[slc] != 0\n",
    "pl.subplot(1,2,1).imshow(data[slc]*msk, origin='lower', norm=norm)\n",
    "pl.subplot(1,2,2).imshow(resid[slc]*msk, origin='lower', norm=norm)"
   ]
  },
  {
   "cell_type": "code",
   "execution_count": null,
   "id": "3f693682-4b3e-4f06-82b6-3b15dba5a09b",
   "metadata": {},
   "outputs": [],
   "source": [
    "star = next_brightest_stars[1]\n",
    "\n",
    "pl.figure(figsize=(10,5))\n",
    "slc = star.slices\n",
    "norm = simple_norm(data[slc], stretch='asinh', max_percent=99.5, min_percent=0.001)\n",
    "msk = data[slc] != 0\n",
    "pl.subplot(1,2,1).imshow(data[slc]*msk, origin='lower', norm=norm)\n",
    "pl.subplot(1,2,2).imshow(resid[slc]*msk, origin='lower', norm=norm)"
   ]
  },
  {
   "cell_type": "code",
   "execution_count": null,
   "id": "c5e4c006-fce6-47ba-918d-ae66a51c78ad",
   "metadata": {},
   "outputs": [],
   "source": [
    "star = next_brightest_stars[2]\n",
    "\n",
    "pl.figure(figsize=(10,5))\n",
    "slc = star.slices\n",
    "norm = simple_norm(data[slc], stretch='asinh', max_percent=99.5, min_percent=0.001)\n",
    "msk = data[slc] != 0\n",
    "pl.subplot(1,2,1).imshow(data[slc]*msk, origin='lower', norm=norm)\n",
    "pl.subplot(1,2,2).imshow(resid[slc]*msk, origin='lower', norm=norm)"
   ]
  },
  {
   "cell_type": "code",
   "execution_count": null,
   "id": "65672756-8de6-4b8a-9dd6-9d8615d764b5",
   "metadata": {},
   "outputs": [],
   "source": [
    "star = next_brightest_stars[5]\n",
    "\n",
    "pl.figure(figsize=(10,5))\n",
    "slc = star.slices\n",
    "norm = simple_norm(data[slc], stretch='asinh', max_percent=99.5, min_percent=0.001)\n",
    "msk = data[slc] != 0\n",
    "pl.subplot(1,2,1).imshow(data[slc]*msk, origin='lower', norm=norm)\n",
    "pl.subplot(1,2,2).imshow(resid[slc]*msk, origin='lower', norm=norm)"
   ]
  },
  {
   "cell_type": "code",
   "execution_count": null,
   "id": "9b9417c1-a0bc-4773-9f0e-8ea4028609b5",
   "metadata": {},
   "outputs": [],
   "source": [
    "star = next_brightest_stars[5]\n",
    "\n",
    "pl.figure(figsize=(10,5))\n",
    "slc = star.slices\n",
    "norm = simple_norm(data[slc], stretch='asinh', max_percent=95., min_percent=0.5)\n",
    "msk = data[slc] != 0\n",
    "pl.subplot(1,2,1).imshow(data[slc]*msk, origin='lower', norm=norm)\n",
    "pl.subplot(1,2,2).imshow(resid[slc]*msk, origin='lower', norm=norm)"
   ]
  },
  {
   "cell_type": "code",
   "execution_count": null,
   "id": "51ad2060-96e4-4397-ba3f-96fe698e03ed",
   "metadata": {},
   "outputs": [],
   "source": []
  },
  {
   "cell_type": "code",
   "execution_count": null,
   "id": "bb7725f9-88e9-4285-b0be-f28f38940275",
   "metadata": {},
   "outputs": [],
   "source": []
  },
  {
   "cell_type": "code",
   "execution_count": null,
   "id": "e1a6cb7f-f430-4081-abbe-61a8edd75de8",
   "metadata": {},
   "outputs": [],
   "source": [
    "phot = BasicPSFPhotometry(finder=finder_maker(min_size=30, max_size=50),\n",
    "                          group_maker=daogroup,\n",
    "                          bkg_estimator=None, # must be none or it un-saturates pixels\n",
    "                          psf_model=grid,\n",
    "                          fitter=LevMarLSQFitter(),\n",
    "                          fitshape=101,\n",
    "                          aperture_radius=15*fwhm_pix)\n",
    "third_brightest_result = phot(next_brightest_resid, mask=data==0, )"
   ]
  },
  {
   "cell_type": "code",
   "execution_count": null,
   "id": "903f6a8d-d947-47e1-995f-d7f4d25029ec",
   "metadata": {},
   "outputs": [],
   "source": [
    "third_brightest_resid = resid = phot.get_residual_image()"
   ]
  },
  {
   "cell_type": "code",
   "execution_count": null,
   "id": "7cf78e60-6afc-4ca9-b715-02081d0c0e87",
   "metadata": {},
   "outputs": [],
   "source": [
    "stars_tbl = Table()\n",
    "stars_tbl['x'] = third_brightest_result['x_fit']\n",
    "stars_tbl['y'] = third_brightest_result['y_fit']\n",
    "\n",
    "third_brightest_stars = extract_stars(NDData(data), stars_tbl, size=251)"
   ]
  },
  {
   "cell_type": "code",
   "execution_count": null,
   "id": "37895a2b-12d5-490f-a2d2-0d3951105af7",
   "metadata": {},
   "outputs": [],
   "source": [
    "star = third_brightest_stars[0]\n",
    "\n",
    "pl.figure(figsize=(10,5))\n",
    "slc = star.slices\n",
    "norm = simple_norm(data[slc], stretch='asinh', max_percent=99.5, min_percent=0.01)\n",
    "msk = data[slc] != 0\n",
    "pl.subplot(1,2,1).imshow(data[slc]*msk, origin='lower', norm=norm)\n",
    "pl.subplot(1,2,2).imshow(resid[slc]*msk, origin='lower', norm=norm)"
   ]
  },
  {
   "cell_type": "code",
   "execution_count": null,
   "id": "fccd9af9-23e3-4cc7-9bab-9013dc4fb7ab",
   "metadata": {},
   "outputs": [],
   "source": []
  },
  {
   "cell_type": "code",
   "execution_count": null,
   "id": "8cb01eea-a727-4981-bdbc-41eb2acf3ae0",
   "metadata": {},
   "outputs": [],
   "source": []
  },
  {
   "cell_type": "code",
   "execution_count": null,
   "id": "4531107e-62f9-4c42-a2f3-356021ed7f71",
   "metadata": {},
   "outputs": [],
   "source": [
    "phot = BasicPSFPhotometry(finder=finder_maker(min_size=0, max_size=30, min_flux=1000, require_gradient=True),\n",
    "                          group_maker=daogroup,\n",
    "                          bkg_estimator=None, # must be none or it un-saturates pixels\n",
    "                          psf_model=grid,\n",
    "                          fitter=LevMarLSQFitter(),\n",
    "                          fitshape=51,\n",
    "                          aperture_radius=5*fwhm_pix)\n",
    "fourth_brightest_result = phot(third_brightest_resid, mask=ndimage.binary_dilation(data==0), )"
   ]
  },
  {
   "cell_type": "code",
   "execution_count": null,
   "id": "0c365874-9fb4-4961-80b9-0c4553506b06",
   "metadata": {},
   "outputs": [],
   "source": [
    "fourth_brightest_resid = resid = phot.get_residual_image()"
   ]
  },
  {
   "cell_type": "code",
   "execution_count": null,
   "id": "b0f66caf-6ade-48ad-8da8-43142fee8021",
   "metadata": {},
   "outputs": [],
   "source": [
    "stars_tbl = Table()\n",
    "stars_tbl['x'] = fourth_brightest_result['x_fit']\n",
    "stars_tbl['y'] = fourth_brightest_result['y_fit']\n",
    "\n",
    "fourth_brightest_stars = extract_stars(NDData(data), stars_tbl, size=51)"
   ]
  },
  {
   "cell_type": "code",
   "execution_count": null,
   "id": "3a1b8a04-8eed-44d5-af77-0be8eb8c2cf3",
   "metadata": {},
   "outputs": [],
   "source": [
    "star = fourth_brightest_stars[0]\n",
    "\n",
    "pl.figure(figsize=(10,5))\n",
    "slc = star.slices\n",
    "norm = simple_norm(data[slc], stretch='asinh', max_percent=99.5, min_percent=0.01)\n",
    "msk = data[slc] != 0\n",
    "pl.subplot(1,2,1).imshow(data[slc]*msk, origin='lower', norm=norm)\n",
    "pl.subplot(1,2,2).imshow(resid[slc]*msk, origin='lower', norm=norm)\n",
    "\n",
    "data[slc][ndimage.binary_dilation(data[slc]==0, iterations=3)].sum()"
   ]
  },
  {
   "cell_type": "code",
   "execution_count": null,
   "id": "2b3c653e-a3a9-41a8-b935-58aa995113bc",
   "metadata": {},
   "outputs": [],
   "source": [
    "star = fourth_brightest_stars[15]\n",
    "\n",
    "pl.figure(figsize=(10,5))\n",
    "slc = star.slices\n",
    "norm = simple_norm(data[slc], stretch='asinh', max_percent=95., min_percent=0.01)\n",
    "msk = data[slc] != 0\n",
    "pl.subplot(1,2,1).imshow(data[slc]*msk, origin='lower', norm=norm)\n",
    "pl.subplot(1,2,2).imshow(resid[slc]*msk, origin='lower', norm=norm)\n",
    "data[slc][ndimage.binary_dilation(data[slc]==0, iterations=3)].sum()"
   ]
  },
  {
   "cell_type": "code",
   "execution_count": null,
   "id": "0451da60-19ef-4cb9-b94a-0bd61be44a71",
   "metadata": {},
   "outputs": [],
   "source": [
    "star = fourth_brightest_stars[25]\n",
    "\n",
    "pl.figure(figsize=(10,5))\n",
    "slc = star.slices\n",
    "norm = simple_norm(data[slc], stretch='asinh', max_percent=95, min_percent=0.01)\n",
    "msk = data[slc] != 0\n",
    "pl.subplot(1,2,1).imshow(data[slc]*msk, origin='lower', norm=norm)\n",
    "pl.subplot(1,2,2).imshow(resid[slc]*msk, origin='lower', norm=norm)\n",
    "data[slc][ndimage.binary_dilation(data[slc]==0, iterations=3)].sum()"
   ]
  },
  {
   "cell_type": "code",
   "execution_count": null,
   "id": "f1e91190-9be6-4d3e-ad84-4485adefcb9b",
   "metadata": {},
   "outputs": [],
   "source": []
  },
  {
   "cell_type": "code",
   "execution_count": null,
   "id": "ae23d771-5ff6-4f59-99b5-320738b048b3",
   "metadata": {},
   "outputs": [],
   "source": []
  },
  {
   "cell_type": "code",
   "execution_count": null,
   "id": "7490f6f0-da33-490e-859c-411737f8762a",
   "metadata": {},
   "outputs": [],
   "source": [
    "from astropy import table"
   ]
  },
  {
   "cell_type": "code",
   "execution_count": null,
   "id": "627fdf33-7189-4735-9ebd-12cae382d3bb",
   "metadata": {},
   "outputs": [],
   "source": [
    "stacked_star_table = table.vstack([brightest_result, next_brightest_result, third_brightest_result, fourth_brightest_result])\n",
    "original_resid = photutils.psf.utils.subtract_psf(origdata, grid, stacked_star_table)\n",
    "fits.PrimaryHDU(data=original_resid, header=im1[1].header).writeto(\"F444W_saturated_stars_subtracted.fits\", overwrite=True)"
   ]
  },
  {
   "cell_type": "code",
   "execution_count": null,
   "id": "4a314811-f3bd-4515-a61b-d1999b37aa8c",
   "metadata": {},
   "outputs": [],
   "source": [
    "print(\"TEST\")"
   ]
  },
  {
   "cell_type": "code",
   "execution_count": null,
   "id": "35314151-85d2-418b-ab99-2060366d1790",
   "metadata": {},
   "outputs": [],
   "source": []
  },
  {
   "cell_type": "code",
   "execution_count": null,
   "id": "50d550ee-7314-47eb-9118-029ff9122f4d",
   "metadata": {},
   "outputs": [],
   "source": []
  },
  {
   "cell_type": "code",
   "execution_count": null,
   "id": "b0dc22ff-8b50-479a-a07a-1345cd7074ad",
   "metadata": {},
   "outputs": [],
   "source": []
  },
  {
   "cell_type": "markdown",
   "id": "d07f39a6-803b-4d71-a50c-03777483878e",
   "metadata": {},
   "source": [
    "# Below here was test work fitting individual stars"
   ]
  },
  {
   "cell_type": "code",
   "execution_count": null,
   "id": "fdc9e687-f34f-462e-8773-ba11aaa6fd01",
   "metadata": {},
   "outputs": [],
   "source": [
    "starlist = finder_maker()(data)\n",
    "starlist"
   ]
  },
  {
   "cell_type": "code",
   "execution_count": null,
   "id": "53e00c68-b1c3-47b5-829e-0a7e11c78374",
   "metadata": {},
   "outputs": [],
   "source": [
    "x0,y0 = map(int, (starlist['xcentroid'][1], starlist['ycentroid'][1]))\n",
    "sz = 16\n",
    "pl.imshow(data[y0-sz:y0+sz, x0-sz:x0+sz], origin='lower')"
   ]
  },
  {
   "cell_type": "code",
   "execution_count": null,
   "id": "501d7492-0c99-4e21-913e-ef78662a604a",
   "metadata": {},
   "outputs": [],
   "source": [
    "epsffitter = EPSFFitter(fit_boxsize=31)"
   ]
  },
  {
   "cell_type": "code",
   "execution_count": null,
   "id": "23ce470d-d0d6-4e16-a622-cc909d1377ed",
   "metadata": {},
   "outputs": [],
   "source": [
    "stars_tbl = Table()\n",
    "stars_tbl['x'] = starlist['xcentroid']\n",
    "stars_tbl['y'] = starlist['ycentroid']\n",
    "\n",
    "stars = extract_stars(NDData(data), stars_tbl, size=31)"
   ]
  },
  {
   "cell_type": "code",
   "execution_count": null,
   "id": "b93457af-53df-43ba-9cad-da9ff12fe112",
   "metadata": {},
   "outputs": [],
   "source": [
    "fitter = LevMarLSQFitter()"
   ]
  },
  {
   "cell_type": "code",
   "execution_count": null,
   "id": "27869211-93bb-496f-b2b6-2f2a192ee54e",
   "metadata": {},
   "outputs": [],
   "source": [
    "star = stars[100]\n",
    "star.center_flat"
   ]
  },
  {
   "cell_type": "code",
   "execution_count": null,
   "id": "4c429145-e548-4ba3-8826-c76b59678101",
   "metadata": {},
   "outputs": [],
   "source": [
    "grid.flux = 10050\n",
    "grid.x_0 = 15.5\n",
    "grid.y_0 = 15.5"
   ]
  },
  {
   "cell_type": "code",
   "execution_count": null,
   "id": "da97980f-6d7b-4156-8973-ffeb112df424",
   "metadata": {},
   "outputs": [],
   "source": [
    "resid = star.data - grid(xx, yy)\n",
    "resid[star.data == 0] = np.nan\n",
    "norm = simple_norm(resid, stretch='asinh', max_percent=95, min_percent=5)\n",
    "pl.imshow(resid, origin='lower', norm=norm)\n",
    "pl.colorbar()"
   ]
  },
  {
   "cell_type": "code",
   "execution_count": null,
   "id": "23b2acb3-d3af-4a5a-a0b5-896d48eb009c",
   "metadata": {},
   "outputs": [],
   "source": [
    "yy, xx = np.indices(star.data.shape, dtype=float)\n",
    "\n",
    "fitted_epsf = fitter(model=grid, x=xx, y=yy, z=star.data,\n",
    "                     weights=star.data > 0\n",
    "                     )\n",
    "fitted_epsf"
   ]
  },
  {
   "cell_type": "code",
   "execution_count": null,
   "id": "ffe1b0f2-fda2-4080-8e74-b8fd6470820e",
   "metadata": {},
   "outputs": [],
   "source": [
    "from astropy.visualization import simple_norm\n",
    "pl.rcParams['figure.facecolor'] = 'w'"
   ]
  },
  {
   "cell_type": "code",
   "execution_count": null,
   "id": "f28f814c-fef4-4937-972f-e612c10d8726",
   "metadata": {},
   "outputs": [],
   "source": [
    "resid = star.data - fitted_epsf(xx, yy)\n",
    "resid[star.data == 0] = np.nan\n",
    "norm = simple_norm(resid, stretch='linear', max_percent=99, min_percent=1)\n",
    "pl.imshow(resid, origin='lower', norm=norm)\n",
    "pl.colorbar()"
   ]
  },
  {
   "cell_type": "code",
   "execution_count": null,
   "id": "30c517b9-a2a9-4bb2-afa0-e3e6e7e01ac4",
   "metadata": {},
   "outputs": [],
   "source": [
    "grid"
   ]
  },
  {
   "cell_type": "code",
   "execution_count": null,
   "id": "a3d41a22-a6a1-447b-8827-a6be349b3151",
   "metadata": {},
   "outputs": [],
   "source": [
    "yy, xx = np.indices(star.data.shape, dtype=float)\n",
    "\n",
    "data = star.data.copy()\n",
    "mask = ndimage.binary_dilation(data == 0, iterations=3)\n",
    "data[mask] = np.nan\n",
    "\n",
    "grid.x_0 = 15.5\n",
    "grid.y_0 = 15.5\n",
    "\n",
    "fitted_epsf = fitter(model=grid, x=xx, y=yy, z=star.data,\n",
    "                     weights=mask == 0\n",
    "                     )\n",
    "fitted_epsf"
   ]
  },
  {
   "cell_type": "code",
   "execution_count": null,
   "id": "c9bebd58-184b-4c6d-8d01-49c52a9a9ee9",
   "metadata": {},
   "outputs": [],
   "source": [
    "resid = star.data - fitted_epsf(xx, yy)\n",
    "resid[star.data == 0] = np.nan\n",
    "norm = simple_norm(resid, stretch='linear', max_percent=99, min_percent=1)\n",
    "pl.figure(figsize=(12,5))\n",
    "pl.subplot(1,2,1)\n",
    "pl.imshow(resid, origin='lower', norm=norm)\n",
    "pl.colorbar()\n",
    "pl.subplot(1,2,2)\n",
    "norm = simple_norm(resid, stretch='asinh', max_percent=95, min_percent=5)\n",
    "pl.imshow(resid, origin='lower', norm=norm)\n",
    "pl.colorbar()"
   ]
  },
  {
   "cell_type": "code",
   "execution_count": null,
   "id": "00cbaef7-7371-4586-a087-0dca3f05eb61",
   "metadata": {},
   "outputs": [],
   "source": [
    "norm = simple_norm(star.data, stretch='asinh', max_percent=95, min_percent=5)\n",
    "pl.imshow(star.data, origin='lower', norm=norm)\n",
    "pl.colorbar()"
   ]
  },
  {
   "cell_type": "code",
   "execution_count": null,
   "id": "bd903156-f4b0-424c-8ca2-6d1abd0610cd",
   "metadata": {},
   "outputs": [],
   "source": [
    "norm = simple_norm(fitted_epsf(xx,yy), stretch='asinh', max_percent=95, min_percent=5)\n",
    "pl.imshow(star.data, origin='lower', norm=norm)\n",
    "pl.colorbar()"
   ]
  },
  {
   "cell_type": "code",
   "execution_count": null,
   "id": "308ce80c-f405-414d-9d2d-880f5e7db316",
   "metadata": {},
   "outputs": [],
   "source": [
    "norm = simple_norm(star.data, stretch='asinh', max_percent=95, min_percent=5)\n",
    "pl.imshow(mask, origin='lower',)\n",
    "pl.colorbar()"
   ]
  },
  {
   "cell_type": "code",
   "execution_count": null,
   "id": "1d279e59-09b6-4bce-b750-15047ec203fc",
   "metadata": {},
   "outputs": [],
   "source": [
    "im1"
   ]
  },
  {
   "cell_type": "code",
   "execution_count": null,
   "id": "0a374b6f-77d3-4ea3-9995-ad9b96eeed03",
   "metadata": {},
   "outputs": [],
   "source": [
    "im1[0].header['DATE-OBS']"
   ]
  }
 ],
 "metadata": {
  "kernelspec": {
   "display_name": "python39",
   "language": "python",
   "name": "python39"
  },
  "language_info": {
   "codemirror_mode": {
    "name": "ipython",
    "version": 3
   },
   "file_extension": ".py",
   "mimetype": "text/x-python",
   "name": "python",
   "nbconvert_exporter": "python",
   "pygments_lexer": "ipython3",
   "version": "3.9.13"
  }
 },
 "nbformat": 4,
 "nbformat_minor": 5
}
