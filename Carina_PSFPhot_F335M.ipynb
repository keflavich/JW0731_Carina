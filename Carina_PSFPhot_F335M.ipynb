{
 "cells": [
  {
   "cell_type": "code",
   "execution_count": 1,
   "id": "e55a4608-bc9b-47a8-9cfd-af99bc59e6fe",
   "metadata": {},
   "outputs": [
    {
     "name": "stdout",
     "output_type": "stream",
     "text": [
      "/orange/adamginsburg/jwst/jw02731/code\n"
     ]
    }
   ],
   "source": [
    "cd /orange/adamginsburg/jwst/jw02731/code"
   ]
  },
  {
   "cell_type": "code",
   "execution_count": 2,
   "id": "0dc92330-1e17-432c-972d-5c78d3d281ee",
   "metadata": {},
   "outputs": [
    {
     "name": "stderr",
     "output_type": "stream",
     "text": [
      "/orange/adamginsburg/jwst/jw02731/code/filtering.py:20: TqdmExperimentalWarning: Using `tqdm.autonotebook.tqdm` in notebook mode. Use `tqdm.tqdm` instead to force console mode (e.g. in jupyter console)\n",
      "  from tqdm.autonotebook import tqdm\n"
     ]
    }
   ],
   "source": [
    "import filter_each_filter, filtering, starfinding\n",
    "import imp\n",
    "imp.reload(filter_each_filter)\n",
    "imp.reload(filtering)\n",
    "imp.reload(starfinding)\n",
    "from filter_each_filter import do_all_filtering"
   ]
  },
  {
   "cell_type": "code",
   "execution_count": 3,
   "id": "da8b1688-988c-4d29-954e-3e82dffd929d",
   "metadata": {},
   "outputs": [],
   "source": [
    "import os\n",
    "os.environ['WEBBPSF_PATH'] = '/orange/adamginsburg/jwst/webbpsf-data/'\n",
    "with open(os.path.expanduser('~/.mast_api_token'), 'r') as fh:\n",
    "    os.environ['MAST_API_TOKEN'] = fh.read().strip()\n",
    "import webbpsf"
   ]
  },
  {
   "cell_type": "code",
   "execution_count": null,
   "id": "282641fe-b128-4a4f-93ca-c4413e26fe93",
   "metadata": {},
   "outputs": [
    {
     "name": "stderr",
     "output_type": "stream",
     "text": [
      "WARNING: FITSFixedWarning: 'datfix' made the change 'Set DATE-BEG to '2022-06-03T09:39:52.572' from MJD-BEG.\n",
      "Set DATE-AVG to '2022-06-03T12:17:28.706' from MJD-AVG.\n",
      "Set DATE-END to '2022-06-03T14:54:43.830' from MJD-END'. [astropy.wcs.wcs]\n",
      "WARNING: FITSFixedWarning: 'obsfix' made the change 'Set OBSGEO-L to   -82.732306 from OBSGEO-[XYZ].\n",
      "Set OBSGEO-B to   -31.568124 from OBSGEO-[XYZ].\n",
      "Set OBSGEO-H to 1654350045.384 from OBSGEO-[XYZ]'. [astropy.wcs.wcs]\n"
     ]
    },
    {
     "name": "stdout",
     "output_type": "stream",
     "text": [
      "INFO: Started /orange/adamginsburg/jwst/jw02731//L3/t/jw02731-o001_t017_nircam_clear-f335m_i2d.fits saturated at t=1660515491.2 [filter_each_filter]\n"
     ]
    },
    {
     "name": "stderr",
     "output_type": "stream",
     "text": [
      "WARNING: FITSFixedWarning: 'obsfix' made the change 'Set OBSGEO-L to   -82.732306 from OBSGEO-[XYZ].\n",
      "Set OBSGEO-B to   -31.568124 from OBSGEO-[XYZ].\n",
      "Set OBSGEO-H to 1654350045.384 from OBSGEO-[XYZ]'. [astropy.wcs.wcs]\n"
     ]
    },
    {
     "name": "stdout",
     "output_type": "stream",
     "text": [
      "\n",
      "MAST OPD query around UTC: 2022-06-03T00:00:00.000\n",
      "                        MJD: 59733.0\n",
      "\n",
      "OPD immediately preceding the given datetime:\n",
      "\tURI:\t mast:JWST/product/R2022060103-NRCA3_FP1-1.fits\n",
      "\tDate (MJD):\t 59731.7095\n",
      "\tDelta time:\t -1.2905 days\n",
      "\n",
      "OPD immediately following the given datetime:\n",
      "\tURI:\t mast:JWST/product/R2022060402-NRCA3_FP1-1.fits\n",
      "\tDate (MJD):\t 59733.8175\n",
      "\tDelta time:\t 0.8175 days\n",
      "User requested choosing OPD time closest in time to 2022-06-03T00:00:00.000, which is R2022060402-NRCA3_FP1-1.fits, delta time 0.817 days\n",
      "INFO: MAST API token accepted, welcome Adam Ginsburg [astroquery.mast.auth]\n",
      "Importing and format-converting OPD from /orange/adamginsburg/jwst/webbpsf-data/MAST_JWST_WSS_OPDs/R2022060402-NRCA3_FP1-1.fits\n",
      "Backing out SI WFE and OTE field dependence at the WF sensing field point\n",
      "INFO: starfinding: Calculating grid for psf_fn=/orange/adamginsburg/jwst/jw02731//background_estimation_cutout//nircam_F335M_samp2_nspsf16_npix512.fits [starfinding]\n",
      "\n",
      "Running instrument: NIRCam, filter: F335M\n",
      "  Running detector: NRCA5\n",
      "    Position 1/16: (0, 0) pixels\n",
      "    Position 2/16: (0, 682) pixels\n",
      "    Position 3/16: (0, 1365) pixels\n",
      "    Position 4/16: (0, 2047) pixels\n",
      "    Position 5/16: (682, 0) pixels\n",
      "    Position 6/16: (682, 682) pixels\n",
      "    Position 7/16: (682, 1365) pixels\n",
      "    Position 8/16: (682, 2047) pixels\n",
      "    Position 9/16: (1365, 0) pixels\n",
      "    Position 10/16: (1365, 682) pixels\n",
      "    Position 11/16: (1365, 1365) pixels\n",
      "    Position 12/16: (1365, 2047) pixels\n",
      "    Position 13/16: (2047, 0) pixels\n",
      "    Position 14/16: (2047, 682) pixels\n",
      "    Position 15/16: (2047, 1365) pixels\n",
      "    Position 16/16: (2047, 2047) pixels\n",
      "  Saving file: /orange/adamginsburg/jwst/jw02731//background_estimation_cutout//nircam_F335M_samp2_nspsf16_npix512_nrca5.fits\n"
     ]
    },
    {
     "data": {
      "application/vnd.jupyter.widget-view+json": {
       "model_id": "f2e0b4200dac4e9085b7ec2848884f00",
       "version_major": 2,
       "version_minor": 0
      },
      "text/plain": [
       "0it [00:00, ?it/s]"
      ]
     },
     "metadata": {},
     "output_type": "display_data"
    },
    {
     "name": "stdout",
     "output_type": "stream",
     "text": [
      "is_star=0, sizes=0, coms_finite=12, coms_inbounds=12, total=0 candidates\n"
     ]
    },
    {
     "name": "stderr",
     "output_type": "stream",
     "text": [
      "WARNING: Skipped iteration with fit size=251, range=100-500 [starfinding]\n"
     ]
    },
    {
     "data": {
      "application/vnd.jupyter.widget-view+json": {
       "model_id": "acfddaae341f4bb08ec616ada07a800a",
       "version_major": 2,
       "version_minor": 0
      },
      "text/plain": [
       "0it [00:00, ?it/s]"
      ]
     },
     "metadata": {},
     "output_type": "display_data"
    },
    {
     "name": "stdout",
     "output_type": "stream",
     "text": [
      "is_star=1, sizes=1, coms_finite=12, coms_inbounds=12, total=1 candidates\n"
     ]
    },
    {
     "data": {
      "application/vnd.jupyter.widget-view+json": {
       "model_id": "97542990632348ce98fa98eb9fbcf7ec",
       "version_major": 2,
       "version_minor": 0
      },
      "text/plain": [
       "0it [00:00, ?it/s]"
      ]
     },
     "metadata": {},
     "output_type": "display_data"
    },
    {
     "name": "stdout",
     "output_type": "stream",
     "text": [
      "is_star=1, sizes=1, coms_finite=12, coms_inbounds=12, total=1 candidates\n"
     ]
    },
    {
     "data": {
      "application/vnd.jupyter.widget-view+json": {
       "model_id": "b0196eb7d6f04ca49195d0b669db48a9",
       "version_major": 2,
       "version_minor": 0
      },
      "text/plain": [
       "0it [00:00, ?it/s]"
      ]
     },
     "metadata": {},
     "output_type": "display_data"
    },
    {
     "name": "stdout",
     "output_type": "stream",
     "text": [
      "is_star=1, sizes=1, coms_finite=12, coms_inbounds=12, total=1 candidates\n"
     ]
    },
    {
     "data": {
      "application/vnd.jupyter.widget-view+json": {
       "model_id": "3f26879ecac8448a8d7dc7f6daad8b49",
       "version_major": 2,
       "version_minor": 0
      },
      "text/plain": [
       "0it [00:00, ?it/s]"
      ]
     },
     "metadata": {},
     "output_type": "display_data"
    },
    {
     "name": "stdout",
     "output_type": "stream",
     "text": [
      "is_star=1, sizes=1, coms_finite=9, coms_inbounds=9, total=1 candidates\n"
     ]
    },
    {
     "data": {
      "application/vnd.jupyter.widget-view+json": {
       "model_id": "f5d6ee5ea8cc4a608748c31a23d5b73b",
       "version_major": 2,
       "version_minor": 0
      },
      "text/plain": [
       "0it [00:00, ?it/s]"
      ]
     },
     "metadata": {},
     "output_type": "display_data"
    },
    {
     "name": "stdout",
     "output_type": "stream",
     "text": [
      "is_star=10, sizes=10, coms_finite=12, coms_inbounds=12, total=10 candidates\n"
     ]
    },
    {
     "data": {
      "application/vnd.jupyter.widget-view+json": {
       "model_id": "c860f0839a6249b7bca31b2ade0b4e14",
       "version_major": 2,
       "version_minor": 0
      },
      "text/plain": [
       "0it [00:00, ?it/s]"
      ]
     },
     "metadata": {},
     "output_type": "display_data"
    },
    {
     "name": "stdout",
     "output_type": "stream",
     "text": [
      "is_star=8, sizes=8, coms_finite=8, coms_inbounds=8, total=8 candidates\n"
     ]
    },
    {
     "name": "stderr",
     "output_type": "stream",
     "text": [
      "WARNING: Attribute `version` of type <class 'dict'> cannot be added to FITS Header - skipping [astropy.io.fits.convenience]\n",
      "WARNING: FITSFixedWarning: 'obsfix' made the change 'Set OBSGEO-L to   -82.732306 from OBSGEO-[XYZ].\n",
      "Set OBSGEO-B to   -31.568124 from OBSGEO-[XYZ].\n",
      "Set OBSGEO-H to 1654350045.384 from OBSGEO-[XYZ]'. [astropy.wcs.wcs]\n"
     ]
    },
    {
     "name": "stdout",
     "output_type": "stream",
     "text": [
      "INFO: Started /orange/adamginsburg/jwst/jw02731//L3/t/jw02731-o001_t017_nircam_clear-f335m_i2d.fits background at t=1660515491.2 [filter_each_filter]\n",
      "INFO: Median filter done in 1.5s [filtering]\n",
      "\n",
      "MAST OPD query around UTC: 2022-06-03T00:00:00.000\n",
      "                        MJD: 59733.0\n",
      "\n",
      "OPD immediately preceding the given datetime:\n",
      "\tURI:\t mast:JWST/product/R2022060103-NRCA3_FP1-1.fits\n",
      "\tDate (MJD):\t 59731.7095\n",
      "\tDelta time:\t -1.2905 days\n",
      "\n",
      "OPD immediately following the given datetime:\n",
      "\tURI:\t mast:JWST/product/R2022060402-NRCA3_FP1-1.fits\n",
      "\tDate (MJD):\t 59733.8175\n",
      "\tDelta time:\t 0.8175 days\n",
      "User requested choosing OPD time closest in time to 2022-06-03T00:00:00.000, which is R2022060402-NRCA3_FP1-1.fits, delta time 0.817 days\n",
      "Importing and format-converting OPD from /orange/adamginsburg/jwst/webbpsf-data/MAST_JWST_WSS_OPDs/R2022060402-NRCA3_FP1-1.fits\n",
      "Backing out SI WFE and OTE field dependence at the WF sensing field point\n",
      "INFO: Calculating PSF kernel done at 8.9s [filtering]\n",
      "INFO: Convolution done at 9.4s [filtering]\n"
     ]
    },
    {
     "name": "stderr",
     "output_type": "stream",
     "text": [
      "WARNING: VerifyWarning: Card is too long, comment will be truncated. [astropy.io.fits.card]\n"
     ]
    },
    {
     "name": "stdout",
     "output_type": "stream",
     "text": [
      "INFO: Calculating PSF for mask done at 12.4s [filtering]\n",
      "INFO: Starfinding for mask done at 12.6s.  n_shallow=71, n_deep=451 [filtering]\n",
      "INFO: Masked convolution done at 13.9s [filtering]\n",
      "INFO: EPSF calculation beginning at 14.0s [filtering]\n"
     ]
    },
    {
     "name": "stderr",
     "output_type": "stream",
     "text": [
      "WARNING: 5 star(s) were not extracted because their cutout region extended beyond the input image. [photutils.psf.epsf_stars]\n"
     ]
    },
    {
     "data": {
      "application/vnd.jupyter.widget-view+json": {
       "model_id": "54687058ba12450792ad78b448ce84f7",
       "version_major": 2,
       "version_minor": 0
      },
      "text/plain": [
       "EPSFBuilder (10 maxiters):   0%|          | 0/10 [00:00<?, ?it/s]"
      ]
     },
     "metadata": {},
     "output_type": "display_data"
    },
    {
     "name": "stdout",
     "output_type": "stream",
     "text": [
      "INFO: EPSF calculation done at 19.2s [filtering]\n",
      "INFO: First-pass starfinding calculation done at 21.9s.  Found 1741 stars. [filtering]\n",
      "INFO: Finding sources.  t=21.9 [filtering]\n",
      "INFO: Found 1741 sources.  t=21.9 [filtering]\n",
      "INFO: Found 1741 sources.  t=24.0 [filtering]\n",
      "INFO: Doing full photometry.  t=24.0 [filtering]\n"
     ]
    },
    {
     "name": "stderr",
     "output_type": "stream",
     "text": [
      "WARNING: init_guesses contains a \"group_id\" column. The group_maker step will be skipped. [photutils.psf.photometry]\n",
      "WARNING: The fit may be unsuccessful; check fit_info['message'] for more information. [astropy.modeling.fitting]\n"
     ]
    }
   ],
   "source": [
    "do_all_filtering('L3/t/jw02731-o001_t017_nircam_clear-f335m_i2d.fits', nsigma_threshold=5)"
   ]
  },
  {
   "cell_type": "code",
   "execution_count": null,
   "id": "fbbdfb3f-aa4b-48d3-9d3f-125b5a7ca40b",
   "metadata": {},
   "outputs": [],
   "source": [
    "import regions\n",
    "rois = regions.Regions.read('/orange/adamginsburg/jwst/jw02731/ROIs.reg')\n",
    "r0, r1 = rois\n",
    "r2, r3 = regions.Regions.read('/orange/adamginsburg/jwst/jw02731/smaller_roi.reg')"
   ]
  },
  {
   "cell_type": "code",
   "execution_count": null,
   "id": "cc50eda1-ce17-435a-90de-c36f1d143ae0",
   "metadata": {},
   "outputs": [],
   "source": [
    "fh = fits.open(glob.glob(f'jw02731-o001_t017_nircam_*{filtername.lower()}*_i2d.fits')[0])\n",
    "ww = wcs.WCS(fh[1].header)\n",
    "mask = (r0 | r1).to_pixel(ww).to_mask()\n",
    "original_cutout = mask.cutout(fh[1].data)\n",
    "original_wcs_cutout = ww[mask.bbox.get_overlap_slices(fh[1].data.shape)[0]]\n",
    "header = fh[0].header\n",
    "header.update(fh[1].header)\n",
    "header.update(original_wcs_cutout.to_header())\n",
    "fits.PrimaryHDU(data=original_cutout, header=header).writeto(f'{filtername}_original_cutout.fits', overwrite=True)"
   ]
  },
  {
   "cell_type": "code",
   "execution_count": null,
   "id": "d0cae243-bc38-4472-ac69-22ce39c0c193",
   "metadata": {},
   "outputs": [],
   "source": [
    "import warnings\n",
    "import pylab as pl\n",
    "pl.rcParams['figure.facecolor'] = 'w'\n",
    "from astropy.visualization import simple_norm\n",
    "from astropy import wcs\n",
    "from astropy.io import fits\n",
    "import glob\n",
    "import numpy as np\n",
    "\n",
    "def check_image(filtername, catalog=None, colorcol='flux', noface=False, min_percent=0.1, max_percent=99,\n",
    "                stretch='asinh', cmap='gray_r', rr=r0, alpha=0.85, linewidth=0.25, marker='o',\n",
    "                images=[\n",
    "                    '{filtername}_original_cutout.fits',\n",
    "                    #f'{filtername}_saturated_stars_removed.fits',\n",
    "                    '{filtername}_filter-based-background-subtraction.fits',\n",
    "                    '{filtername}_originalimage_stars_removed.fits',\n",
    "                    #f'{filtername}_psfphot_stars_removed.fits'\n",
    "                       ]\n",
    "               ):\n",
    "    with warnings.catch_warnings():\n",
    "        warnings.simplefilter('ignore')\n",
    "\n",
    "\n",
    "        pl.figure(figsize=(22,9))\n",
    "        for ii,imgtype in enumerate(images):\n",
    "            imgtype = imgtype.format(filtername=filtername)\n",
    "            print(imgtype)\n",
    "            fn = glob.glob(imgtype)[0]\n",
    "            data = fits.getdata(fn)\n",
    "\n",
    "            header = fits.getheader(fn)\n",
    "            ww = wcs.WCS(header)\n",
    "            mask = rr.to_pixel(ww).to_mask()\n",
    "            #except Exception as ex:\n",
    "            #    print(ex)\n",
    "            #    header = fits.getheader(fn, ext=1)\n",
    "            #    ww = wcs.WCS(header)\n",
    "            #    mask = rr.to_pixel(ww).to_mask()\n",
    "            \n",
    "            mdata = mask.cutout(data)\n",
    "            #print(f\"mdata shape={mdata.shape}\")\n",
    "            bigslc, smlslc = mask.bbox.get_overlap_slices(data.shape)\n",
    "            assert bigslc is not None\n",
    "            ax = pl.subplot(1,3, ii+1, projection=ww[bigslc])\n",
    "            ax.imshow(mdata, norm=simple_norm(mdata, min_percent=min_percent, max_percent=max_percent, stretch=stretch), cmap=cmap)\n",
    "            axlims = ax.axis()\n",
    "            #print(axlims)\n",
    "            if catalog:\n",
    "                if 'x_fit' in catalog.colnames:\n",
    "                    xx = catalog['x_fit'] - bigslc[1].start\n",
    "                    yy = catalog['y_fit'] - bigslc[0].start\n",
    "                elif 'xcentroid' in catalog.colnames:\n",
    "                    xx = catalog['xcentroid'] - bigslc[1].start\n",
    "                    yy = catalog['ycentroid'] - bigslc[0].start\n",
    "                elif 'x_peak' in catalog.colnames:\n",
    "                    xx = catalog['x_peak'] - bigslc[1].start\n",
    "                    yy = catalog['y_peak'] - bigslc[0].start\n",
    "                else:\n",
    "                    raise ValueError(str(catalog.colnames))\n",
    "                cc = catalog[f'{colorcol}_fit'] if f'{colorcol}_fit' in catalog.colnames else catalog[f'{colorcol}']\n",
    "                print(xx.mean(), yy.mean(), bigslc)\n",
    "                if 'roundness1' in catalog.colnames:\n",
    "                    unround = (np.abs(catalog['roundness1']) > 0.25) | np.abs(catalog['roundness2'] > 0.25)\n",
    "                else:\n",
    "                    unround = np.zeros(len(catalog), dtype='bool')\n",
    "                if noface:\n",
    "                    ax.scatter(xx[~unround], yy[~unround], marker=marker, facecolor='none', edgecolor='blue', alpha=alpha, linewidth=linewidth)\n",
    "                    ax.scatter(xx[unround], yy[unround], marker=marker, facecolor='none', edgecolor='red', alpha=alpha, linewidth=linewidth)\n",
    "                    print(f\"Made scatterplot for plot {ii}\")\n",
    "                else:\n",
    "                    scat = ax.scatter(xx, yy, marker=marker, c=cc, cmap='jet', alpha=alpha, linewidth=linewidth, norm=simple_norm(cc, max_percent=99., min_percent=1.))\n",
    "                    pl.draw()\n",
    "                    scat.set_edgecolors(scat.get_facecolors())\n",
    "                    scat.set_facecolor('none')\n",
    "                ax.axis(axlims)"
   ]
  },
  {
   "cell_type": "code",
   "execution_count": null,
   "id": "bf858b0b-91ad-4856-b08f-0db170ca8407",
   "metadata": {},
   "outputs": [],
   "source": [
    "from astropy.table import Table\n",
    "def plot_with_catalog(filtername, **kwargs):\n",
    "    catalog = Table.read(f'{filtername}_fullfield_ePSF_photometry.fits')\n",
    "    #print(catalog)\n",
    "    check_image(filtername, catalog, **kwargs)"
   ]
  },
  {
   "cell_type": "code",
   "execution_count": null,
   "id": "cc0687ba-f714-4eac-93d2-c73c965e1647",
   "metadata": {},
   "outputs": [],
   "source": [
    "cd /orange/adamginsburg/jwst/jw02731/background_estimation_cutout/"
   ]
  },
  {
   "cell_type": "code",
   "execution_count": null,
   "id": "f8f542e7-86bd-436d-9b7f-be19c3ea9773",
   "metadata": {},
   "outputs": [],
   "source": [
    "plot_with_catalog('F335M', noface=True, stretch='log', min_percent=5)"
   ]
  },
  {
   "cell_type": "code",
   "execution_count": null,
   "id": "988b6e4a-79f6-45b0-8772-a497ee260444",
   "metadata": {},
   "outputs": [],
   "source": [
    "plot_with_catalog('F335M', noface=True, stretch='log', min_percent=5, rr=r2, linewidth=1, marker='s')"
   ]
  },
  {
   "cell_type": "code",
   "execution_count": null,
   "id": "7895d0f1-222d-4978-b4db-73e3246c7063",
   "metadata": {},
   "outputs": [],
   "source": [
    "plot_with_catalog('F335M', noface=True, rr=r1)"
   ]
  },
  {
   "cell_type": "code",
   "execution_count": null,
   "id": "4d7dfdf0-e392-4e51-893d-ba846dd04cfd",
   "metadata": {},
   "outputs": [],
   "source": [
    "filtername = 'F335M'\n",
    "catalog = Table.read(f'{filtername}_fullfield_ePSF_photometry.fits')"
   ]
  },
  {
   "cell_type": "code",
   "execution_count": null,
   "id": "1f9012c5-ea32-4188-b5db-4ab0432a24bc",
   "metadata": {},
   "outputs": [],
   "source": [
    "pl.scatter(catalog['roundness1'], catalog['roundness2'], c=catalog['sharpness'], alpha=0.5)"
   ]
  },
  {
   "cell_type": "code",
   "execution_count": null,
   "id": "3e1b88ae-7783-48a2-8aa1-17f103958a26",
   "metadata": {},
   "outputs": [],
   "source": [
    "from photutils.detection import IRAFStarFinder, DAOStarFinder, find_peaks"
   ]
  },
  {
   "cell_type": "code",
   "execution_count": null,
   "id": "c4341893-be68-4610-945f-110e870da4db",
   "metadata": {},
   "outputs": [],
   "source": [
    "from astropy.stats import mad_std"
   ]
  },
  {
   "cell_type": "code",
   "execution_count": null,
   "id": "c16ce622-61f9-4db7-a5f6-38d171567970",
   "metadata": {},
   "outputs": [],
   "source": [
    "data = fits.getdata(f'{filtername}_filter-based-background-subtraction.fits')\n",
    "findpeakscat = find_peaks(data, 3*mad_std(data))\n",
    "findpeakscat.colnames"
   ]
  },
  {
   "cell_type": "code",
   "execution_count": null,
   "id": "9e0ebc83-ceeb-44d9-a535-411ec5f30cbd",
   "metadata": {},
   "outputs": [],
   "source": [
    "check_image(filtername, catalog=findpeakscat, noface=True, stretch='log', min_percent=5, rr=r2, linewidth=1, marker='s', colorcol='peak_value')"
   ]
  },
  {
   "cell_type": "code",
   "execution_count": null,
   "id": "38a5e140-3c32-4fc9-af72-4500ddccc5c3",
   "metadata": {},
   "outputs": [],
   "source": [
    "from filtering import get_fwhm"
   ]
  },
  {
   "cell_type": "code",
   "execution_count": null,
   "id": "ad193f95-a7a1-4e67-9e1f-d9e4126cfebd",
   "metadata": {},
   "outputs": [],
   "source": [
    "fwhm, fwhm_pix = get_fwhm(fh[0].header)\n",
    "irafcat = IRAFStarFinder(threshold=3*mad_std(data), fwhm=fwhm_pix)(data)"
   ]
  },
  {
   "cell_type": "code",
   "execution_count": null,
   "id": "652c6ca9-244d-4aae-9256-c5dc39dc50b3",
   "metadata": {},
   "outputs": [],
   "source": [
    "check_image(filtername, catalog=irafcat, noface=True, stretch='log', min_percent=5, rr=r2, linewidth=1, marker='s', )"
   ]
  },
  {
   "cell_type": "code",
   "execution_count": null,
   "id": "35e756b2-1907-43db-9d80-d694baa9d069",
   "metadata": {},
   "outputs": [],
   "source": [
    "daocat = DAOStarFinder(threshold=3*mad_std(data), fwhm=fwhm_pix)(data)"
   ]
  },
  {
   "cell_type": "code",
   "execution_count": null,
   "id": "c6f1077e-c6da-4919-8722-89cbdac057a0",
   "metadata": {},
   "outputs": [],
   "source": [
    "check_image(filtername, catalog=daocat, noface=True, stretch='log', min_percent=5, rr=r2, linewidth=1, marker='s', )"
   ]
  },
  {
   "cell_type": "code",
   "execution_count": null,
   "id": "3051721d-f070-4ecc-8781-6eb35f303fbb",
   "metadata": {},
   "outputs": [],
   "source": []
  },
  {
   "cell_type": "code",
   "execution_count": null,
   "id": "d5cd60ed-53ac-4fb9-b878-ddf1408bd5d8",
   "metadata": {},
   "outputs": [],
   "source": []
  },
  {
   "cell_type": "code",
   "execution_count": null,
   "id": "84dc6260-b674-46c2-83d9-b7bedf3f0db1",
   "metadata": {},
   "outputs": [],
   "source": [
    "plot_with_catalog('F335M', noface=True, stretch='asinh', min_percent=3, max_percent=99., rr=r3, linewidth=1, marker='s')"
   ]
  },
  {
   "cell_type": "code",
   "execution_count": null,
   "id": "b961c082-90b0-461f-be3f-3b090af88b09",
   "metadata": {},
   "outputs": [],
   "source": [
    "check_image(filtername='F335M', catalog=daocat, noface=True, stretch='asinh', min_percent=3, max_percent=99., rr=r3, linewidth=1, marker='s')"
   ]
  },
  {
   "cell_type": "code",
   "execution_count": null,
   "id": "97cdf783-9c8a-4b4f-b741-dd5a793d1c1b",
   "metadata": {},
   "outputs": [],
   "source": [
    "check_image(filtername='F335M', catalog=daocat, noface=False, stretch='asinh', min_percent=3, max_percent=99., rr=r3, linewidth=2, marker='s', colorcol='roundness1')"
   ]
  },
  {
   "cell_type": "code",
   "execution_count": null,
   "id": "fa407fb4-97d5-4709-b2cd-840a609d9226",
   "metadata": {},
   "outputs": [],
   "source": [
    "plot_with_catalog('F335M', noface=False, stretch='asinh', min_percent=3, max_percent=99., rr=r3, linewidth=2, marker='s', colorcol='roundness1')"
   ]
  },
  {
   "cell_type": "code",
   "execution_count": null,
   "id": "048c08b1-5e60-40c3-93b6-dc170fab9d8f",
   "metadata": {},
   "outputs": [],
   "source": [
    "check_image('F335M', catalog=None, noface=False, stretch='asinh', min_percent=3, max_percent=99., rr=(r0|r1), linewidth=2, marker='s', colorcol='roundness1',\n",
    "            images=[\n",
    "                    '{filtername}_original_cutout.fits',\n",
    "                    #f'{filtername}_saturated_stars_removed.fits',\n",
    "                    '{filtername}_filter-based-background-subtraction.fits',\n",
    "                    #'{filtername}_originalimage_stars_removed.fits',\n",
    "                    '{filtername}_psfphot_stars_removed.fits'\n",
    "                       ])"
   ]
  },
  {
   "cell_type": "code",
   "execution_count": null,
   "id": "24b6c92b-dfae-4ca0-aa46-60d1cf31327e",
   "metadata": {},
   "outputs": [],
   "source": [
    "from scipy import ndimage"
   ]
  },
  {
   "cell_type": "code",
   "execution_count": null,
   "id": "e1aba407-25e4-4a04-bbbb-916e23d35b96",
   "metadata": {},
   "outputs": [],
   "source": [
    "sz=51\n",
    "yy,xx = np.indices([sz,sz])\n",
    "rr = ((xx-xx.max()/2)**2 + (yy-yy.max()/2)**2)**0.5\n",
    "noisemap = ndimage.generic_filter(fits.getdata('F335M_psfphot_stars_removed.fits'), mad_std, footprint=rr<sz/2)"
   ]
  },
  {
   "cell_type": "code",
   "execution_count": null,
   "id": "3ac36fc5-9290-4991-bc9c-526f2672ffdc",
   "metadata": {},
   "outputs": [],
   "source": [
    "pl.imshow(noisemap, norm=simple_norm(noisemap, max_percent=99.5, stretch='asinh'))"
   ]
  },
  {
   "cell_type": "code",
   "execution_count": null,
   "id": "fbe3581c-4784-4274-a8e8-3ad841217e83",
   "metadata": {},
   "outputs": [],
   "source": [
    "pl.figure(figsize=(10,12))\n",
    "pl.imshow(fits.getdata(f'{filtername}_filter-based-background-subtraction.fits') / noisemap, origin='lower', vmin=0, vmax=10)\n",
    "pl.colorbar()"
   ]
  },
  {
   "cell_type": "code",
   "execution_count": null,
   "id": "32441c1a-c6f7-46eb-b434-f941b92942db",
   "metadata": {},
   "outputs": [],
   "source": [
    "snmap = fits.getdata(f'{filtername}_filter-based-background-subtraction.fits') / noisemap"
   ]
  },
  {
   "cell_type": "code",
   "execution_count": null,
   "id": "68afcbc2-cc6b-47d4-a04e-610dec4159c8",
   "metadata": {},
   "outputs": [],
   "source": [
    "from photutils.segmentation import detect_sources, SourceCatalog\n",
    "segment_map = detect_sources(snmap, 5, npixels=10)\n",
    "segment_sources = SourceCatalog(snmap, segment_map)"
   ]
  },
  {
   "cell_type": "code",
   "execution_count": null,
   "id": "4ce68f97-323c-4bff-b466-860665938488",
   "metadata": {},
   "outputs": [],
   "source": [
    "seg_tbl = segment_sources.to_table()"
   ]
  },
  {
   "cell_type": "code",
   "execution_count": null,
   "id": "3dc45cc3-d0e0-4c5c-85e0-79c7421c5186",
   "metadata": {},
   "outputs": [],
   "source": [
    "seg_tbl['eccentricity']"
   ]
  },
  {
   "cell_type": "code",
   "execution_count": null,
   "id": "c40ed90b-bce2-462a-afe6-3a8f03afff19",
   "metadata": {},
   "outputs": [],
   "source": [
    "pl.hist(np.array(seg_tbl['eccentricity']))"
   ]
  },
  {
   "cell_type": "code",
   "execution_count": null,
   "id": "f7032ebb-4e88-400a-bbd5-1b9d9e804477",
   "metadata": {},
   "outputs": [],
   "source": [
    "elongated_map = np.zeros_like(segment_map, dtype='bool')\n",
    "for row in seg_tbl:\n",
    "    if row['eccentricity'] > 0.9:\n",
    "        elongated_map[segment_map.data == (row['label'])] = True"
   ]
  },
  {
   "cell_type": "code",
   "execution_count": null,
   "id": "d83f11b8-3894-4a1d-9bfb-006dbc643dd7",
   "metadata": {},
   "outputs": [],
   "source": [
    "#segment_map[segment_map==0] = np.nan\n",
    "pl.figure(figsize=(8,12))\n",
    "pl.imshow(segment_map.data > 0)\n",
    "pl.contour(elongated_map, colors=['r'], levels=[0.5])"
   ]
  },
  {
   "cell_type": "code",
   "execution_count": null,
   "id": "7fea6e6c-e261-49fe-b3d7-228bf3a7c73a",
   "metadata": {},
   "outputs": [],
   "source": [
    "daocatsnm = DAOStarFinder(threshold=3, fwhm=fwhm_pix)(snmap)\n",
    "daocatsnm_mask = DAOStarFinder(threshold=3, fwhm=fwhm_pix)(snmap, mask=elongated_map)"
   ]
  },
  {
   "cell_type": "code",
   "execution_count": null,
   "id": "0067c955-f7f2-49f1-8dfe-3bca8bb2e413",
   "metadata": {},
   "outputs": [],
   "source": [
    "pl.figure(figsize=(12,8))\n",
    "pl.scatter(daocatsnm['xcentroid'], daocatsnm['ycentroid'], edgecolor='b', facecolor='none')\n",
    "pl.scatter(daocatsnm_mask['xcentroid'], daocatsnm_mask['ycentroid'], edgecolor='orange', facecolor='none')"
   ]
  },
  {
   "cell_type": "code",
   "execution_count": null,
   "id": "a47d8216-adc2-4b94-ad09-6a053ff75c70",
   "metadata": {},
   "outputs": [],
   "source": [
    "check_image('F335M', catalog=daocatsnm, noface=False, stretch='asinh', min_percent=3, max_percent=99., rr=r3, linewidth=2, marker='s', colorcol='roundness1',\n",
    "            images=[\n",
    "                    '{filtername}_original_cutout.fits',\n",
    "                    #f'{filtername}_saturated_stars_removed.fits',\n",
    "                    '{filtername}_filter-based-background-subtraction.fits',\n",
    "                    #'{filtername}_originalimage_stars_removed.fits',\n",
    "                    '{filtername}_psfphot_stars_removed.fits'\n",
    "                       ])"
   ]
  },
  {
   "cell_type": "code",
   "execution_count": null,
   "id": "16fed907-d0fe-41e7-af09-3ca1221f9e78",
   "metadata": {},
   "outputs": [],
   "source": [
    "check_image('F335M', catalog=daocatsnm_mask, noface=False, stretch='asinh', min_percent=3, max_percent=99., rr=r3, linewidth=2, marker='s', colorcol='roundness1',\n",
    "            images=[\n",
    "                    '{filtername}_original_cutout.fits',\n",
    "                    #f'{filtername}_saturated_stars_removed.fits',\n",
    "                    '{filtername}_filter-based-background-subtraction.fits',\n",
    "                    #'{filtername}_originalimage_stars_removed.fits',\n",
    "                    '{filtername}_psfphot_stars_removed.fits'\n",
    "                       ])"
   ]
  },
  {
   "cell_type": "code",
   "execution_count": null,
   "id": "23efd487-3344-40af-a0f6-9dcddec9ec33",
   "metadata": {},
   "outputs": [],
   "source": []
  }
 ],
 "metadata": {
  "kernelspec": {
   "display_name": "python39",
   "language": "python",
   "name": "python39"
  },
  "language_info": {
   "codemirror_mode": {
    "name": "ipython",
    "version": 3
   },
   "file_extension": ".py",
   "mimetype": "text/x-python",
   "name": "python",
   "nbconvert_exporter": "python",
   "pygments_lexer": "ipython3",
   "version": "3.9.13"
  }
 },
 "nbformat": 4,
 "nbformat_minor": 5
}
