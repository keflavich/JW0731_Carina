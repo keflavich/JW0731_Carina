{
 "cells": [
  {
   "cell_type": "code",
   "execution_count": 2,
   "id": "3276f87c-d276-431f-9b8f-8ef67540b021",
   "metadata": {},
   "outputs": [
    {
     "name": "stdout",
     "output_type": "stream",
     "text": [
      "/orange/adamginsburg/jwst/jw02731/L3/t\n"
     ]
    }
   ],
   "source": [
    "cd /orange/adamginsburg/jwst/jw02731/L3/t/"
   ]
  },
  {
   "cell_type": "code",
   "execution_count": 33,
   "id": "b7482ba3-619b-48ef-b263-54e0e049ca9b",
   "metadata": {},
   "outputs": [],
   "source": [
    "from astropy.io import fits"
   ]
  },
  {
   "cell_type": "code",
   "execution_count": 34,
   "id": "2ae94b34-4821-46cf-83d5-30d8f0cd3d99",
   "metadata": {},
   "outputs": [],
   "source": [
    "im1 = fits.open('/orange/adamginsburg/jwst/jw02731/L3/t/jw02731-o001_t017_nircam_clear-f444w_i2d.fits')"
   ]
  },
  {
   "cell_type": "code",
   "execution_count": 35,
   "id": "ef720211-efea-4911-8db7-5e1337d9bff1",
   "metadata": {},
   "outputs": [],
   "source": [
    "im2 = fits.open('/orange/adamginsburg/jwst/jw02731/L3/t/jw02731-o001_t017_nircam_f444w-f470n_i2d.fits')"
   ]
  },
  {
   "cell_type": "code",
   "execution_count": 36,
   "id": "0ece639e-d3ba-4fc3-bf8a-0897f391fee7",
   "metadata": {},
   "outputs": [
    {
     "data": {
      "text/plain": [
       "(4179, 7065)"
      ]
     },
     "execution_count": 36,
     "metadata": {},
     "output_type": "execute_result"
    }
   ],
   "source": [
    "im1[1].data.shape"
   ]
  },
  {
   "cell_type": "code",
   "execution_count": 37,
   "id": "fd92acbf-4242-4d50-ae43-13c807df34bb",
   "metadata": {},
   "outputs": [
    {
     "data": {
      "text/plain": [
       "(4180, 7061)"
      ]
     },
     "execution_count": 37,
     "metadata": {},
     "output_type": "execute_result"
    }
   ],
   "source": [
    "im2[1].data.shape"
   ]
  },
  {
   "cell_type": "code",
   "execution_count": 38,
   "id": "3a86922d-6df0-4b7c-a479-5a0792c7ab35",
   "metadata": {},
   "outputs": [],
   "source": [
    "import reproject"
   ]
  },
  {
   "cell_type": "code",
   "execution_count": 39,
   "id": "f17baa9f-8a83-4280-9531-20dc96138d66",
   "metadata": {},
   "outputs": [
    {
     "name": "stderr",
     "output_type": "stream",
     "text": [
      "WARNING: FITSFixedWarning: 'datfix' made the change 'Set DATE-BEG to '2022-06-03T10:07:58.266' from MJD-BEG.\n",
      "Set DATE-AVG to '2022-06-03T12:45:26.346' from MJD-AVG.\n",
      "Set DATE-END to '2022-06-03T15:22:38.772' from MJD-END'. [astropy.wcs.wcs]\n",
      "WARNING: FITSFixedWarning: 'obsfix' made the change 'Set OBSGEO-L to   -82.723261 from OBSGEO-[XYZ].\n",
      "Set OBSGEO-B to   -31.574327 from OBSGEO-[XYZ].\n",
      "Set OBSGEO-H to 1654444171.915 from OBSGEO-[XYZ]'. [astropy.wcs.wcs]\n",
      "WARNING: FITSFixedWarning: 'datfix' made the change 'Set DATE-BEG to '2022-06-03T09:00:41.204' from MJD-BEG.\n",
      "Set DATE-AVG to '2022-06-03T11:43:37.025' from MJD-AVG.\n",
      "Set DATE-END to '2022-06-03T14:26:16.695' from MJD-END'. [astropy.wcs.wcs]\n",
      "WARNING: FITSFixedWarning: 'obsfix' made the change 'Set OBSGEO-L to   -82.748146 from OBSGEO-[XYZ].\n",
      "Set OBSGEO-B to   -31.557263 from OBSGEO-[XYZ].\n",
      "Set OBSGEO-H to 1654185312.571 from OBSGEO-[XYZ]'. [astropy.wcs.wcs]\n"
     ]
    }
   ],
   "source": [
    "rep,_ = reproject.reproject_interp(im1, im2[1].header, hdu_in=1)"
   ]
  },
  {
   "cell_type": "code",
   "execution_count": 40,
   "id": "ddc81572-6bb5-4b93-a392-3bc195912cdf",
   "metadata": {},
   "outputs": [],
   "source": [
    "contsub = im2[1].data-rep"
   ]
  },
  {
   "cell_type": "code",
   "execution_count": 41,
   "id": "b8610904-ca04-4e5c-80eb-f97a5abaf386",
   "metadata": {},
   "outputs": [],
   "source": [
    "fits.PrimaryHDU(data=contsub, header=im2[1].header).writeto('/orange/adamginsburg/jwst/jw02731/L3/t/H2_contsub.fits', overwrite=True)"
   ]
  },
  {
   "cell_type": "code",
   "execution_count": 42,
   "id": "d0143af6-9e04-487f-a7ad-f7123f46e6a7",
   "metadata": {},
   "outputs": [],
   "source": [
    "from astroquery.svo_fps import SvoFps"
   ]
  },
  {
   "cell_type": "code",
   "execution_count": 43,
   "id": "46f0a05b-4867-46b7-ac03-06aa92e8617a",
   "metadata": {},
   "outputs": [],
   "source": [
    "nircam_filters = SvoFps.get_filter_list(facility='jwst', instrument='nircam')\n",
    "nircam_filters.add_index('filterID')"
   ]
  },
  {
   "cell_type": "code",
   "execution_count": 44,
   "id": "5b60ce6c-ffa2-4488-b65e-d5dfe5034df2",
   "metadata": {},
   "outputs": [],
   "source": [
    "width_470n = nircam_filters.loc['JWST/NIRCam.F470N']['WidthEff']"
   ]
  },
  {
   "cell_type": "code",
   "execution_count": 45,
   "id": "629cb42c-383e-40e4-a0f1-25798f4f0678",
   "metadata": {},
   "outputs": [],
   "source": [
    "width_444w = nircam_filters.loc['JWST/NIRCam.F444W']['WidthEff']"
   ]
  },
  {
   "cell_type": "code",
   "execution_count": 46,
   "id": "ae4210fd-b193-487a-8ba1-079296cf68d8",
   "metadata": {},
   "outputs": [],
   "source": [
    "h2sub = rep - im2[1].data * width_470n / width_444w\n",
    "fits.PrimaryHDU(data=h2sub, header=im2[1].header).writeto('/orange/adamginsburg/jwst/jw02731/L3/t/F444W_minus_H2.fits', overwrite=True)"
   ]
  },
  {
   "cell_type": "code",
   "execution_count": null,
   "id": "9155d166-8d96-4d80-9754-cab2cfb69596",
   "metadata": {},
   "outputs": [],
   "source": []
  },
  {
   "cell_type": "code",
   "execution_count": 47,
   "id": "e1b5ef6f-9ea5-491e-890d-a88a287878ed",
   "metadata": {},
   "outputs": [],
   "source": [
    "im1 = fits.open('/orange/adamginsburg/jwst/jw02731/L3/t/jw02731-o001_t017_nircam_clear-f187n_i2d.fits')"
   ]
  },
  {
   "cell_type": "code",
   "execution_count": 48,
   "id": "37f11929-31d0-4239-97dc-d0f5de399648",
   "metadata": {},
   "outputs": [],
   "source": [
    "im2 = fits.open('/orange/adamginsburg/jwst/jw02731/L3/t/jw02731-o001_t017_nircam_clear-f200w_i2d.fits')"
   ]
  },
  {
   "cell_type": "code",
   "execution_count": null,
   "id": "bd83ed24-c25a-410a-a00e-f0e5fc459fd5",
   "metadata": {},
   "outputs": [
    {
     "name": "stderr",
     "output_type": "stream",
     "text": [
      "WARNING: FITSFixedWarning: 'datfix' made the change 'Set DATE-BEG to '2022-06-03T10:07:58.266' from MJD-BEG.\n",
      "Set DATE-AVG to '2022-06-03T12:45:26.326' from MJD-AVG.\n",
      "Set DATE-END to '2022-06-03T15:22:38.772' from MJD-END'. [astropy.wcs.wcs]\n",
      "WARNING: FITSFixedWarning: 'obsfix' made the change 'Set OBSGEO-L to   -82.720248 from OBSGEO-[XYZ].\n",
      "Set OBSGEO-B to   -31.576394 from OBSGEO-[XYZ].\n",
      "Set OBSGEO-H to 1654475546.366 from OBSGEO-[XYZ]'. [astropy.wcs.wcs]\n",
      "WARNING: FITSFixedWarning: 'datfix' made the change 'Set DATE-BEG to '2022-06-03T09:00:41.204' from MJD-BEG.\n",
      "Set DATE-AVG to '2022-06-03T11:43:37.007' from MJD-AVG.\n",
      "Set DATE-END to '2022-06-03T14:26:16.631' from MJD-END'. [astropy.wcs.wcs]\n",
      "WARNING: FITSFixedWarning: 'obsfix' made the change 'Set OBSGEO-L to   -82.745882 from OBSGEO-[XYZ].\n",
      "Set OBSGEO-B to   -31.558815 from OBSGEO-[XYZ].\n",
      "Set OBSGEO-H to 1654208846.711 from OBSGEO-[XYZ]'. [astropy.wcs.wcs]\n"
     ]
    }
   ],
   "source": [
    "rep,_ = reproject.reproject_interp(im2, im1[1].header, hdu_in=1)"
   ]
  },
  {
   "cell_type": "code",
   "execution_count": null,
   "id": "1021d6b9-5ac6-4578-b9af-1e2b13e95ea0",
   "metadata": {},
   "outputs": [],
   "source": [
    "contsub = im1[1].data-rep"
   ]
  },
  {
   "cell_type": "code",
   "execution_count": null,
   "id": "76db871f-8037-4e5f-9bfc-220c4b457ff9",
   "metadata": {},
   "outputs": [],
   "source": [
    "fits.PrimaryHDU(data=contsub, header=im1[1].header).writeto('/orange/adamginsburg/jwst/jw02731/L3/t/PaA_contsub.fits', overwrite=True)"
   ]
  },
  {
   "cell_type": "code",
   "execution_count": null,
   "id": "c18dc271-243b-422f-b2cf-a72c64074ed1",
   "metadata": {},
   "outputs": [],
   "source": [
    "width_187n = nircam_filters.loc['JWST/NIRCam.F187N']['WidthEff']"
   ]
  },
  {
   "cell_type": "code",
   "execution_count": null,
   "id": "029bfb5f-9694-4252-a603-34e3152343a4",
   "metadata": {},
   "outputs": [],
   "source": [
    "width_200w = nircam_filters.loc['JWST/NIRCam.F200W']['WidthEff']"
   ]
  },
  {
   "cell_type": "code",
   "execution_count": null,
   "id": "abfc71fb-9331-48a1-b369-cfaa5f25ef52",
   "metadata": {},
   "outputs": [],
   "source": [
    "paAsub = rep - im1[1].data * width_187n/width_200w"
   ]
  },
  {
   "cell_type": "code",
   "execution_count": null,
   "id": "4cfcf4d3-3ab0-424c-b165-644009eb3f87",
   "metadata": {},
   "outputs": [],
   "source": [
    "fits.PrimaryHDU(data=paAsub, header=im1[1].header).writeto('/orange/adamginsburg/jwst/jw02731/L3/t/F200W_minus_PaA.fits', overwrite=True)"
   ]
  },
  {
   "cell_type": "code",
   "execution_count": null,
   "id": "bb99ac6f-2c9c-4680-83a3-4805697ba928",
   "metadata": {},
   "outputs": [],
   "source": [
    "base = '/orange/adamginsburg/jwst/jw02731/L3/t/'\n",
    "fop = fits.open\n",
    "PaA_rep_H2,_ =  reproject.reproject_interp(fop(f'{base}/PaA_contsub.fits'),\n",
    "                                            fop(f'{base}/H2_contsub.fits')[0].header,\n",
    "                                            )\n",
    "fits.PrimaryHDU(data=PaA_rep_H2, header=fop(f'{base}/H2_contsub.fits')[0].header).writeto(f'{base}/PaA_proj_H2.fits')"
   ]
  },
  {
   "cell_type": "code",
   "execution_count": null,
   "id": "59f9faa9-0d37-427b-9b1b-502fe7a18b7d",
   "metadata": {},
   "outputs": [],
   "source": [
    "cd /orange/adamginsburg/jwst/jw02731/L3/t/"
   ]
  },
  {
   "cell_type": "code",
   "execution_count": null,
   "id": "0ff17716-beb7-4f3c-85b1-2e4dac91c069",
   "metadata": {},
   "outputs": [],
   "source": [
    "import numpy as np"
   ]
  },
  {
   "cell_type": "code",
   "execution_count": null,
   "id": "9a274607-71c8-45b1-aecf-eeb8296d3d6a",
   "metadata": {},
   "outputs": [],
   "source": [
    "PaA_to_H2_ratio = PaA_rep_H2/fop(f'{base}/H2_contsub.fits')[0].data\n",
    "PaA_to_H2_ratio[PaA_to_H2_ratio<0] = np.nan\n",
    "PaA_to_H2_ratio[PaA_to_H2_ratio>50] = np.nan\n",
    "fits.PrimaryHDU(data=PaA_to_H2_ratio, header=fop(f'{base}/H2_contsub.fits')[0].header).writeto(f'{base}/PaA_to_H2_ratio.fits', overwrite=True)"
   ]
  },
  {
   "cell_type": "code",
   "execution_count": null,
   "id": "7c438f8e-94de-46a0-b2eb-a20fa4288205",
   "metadata": {},
   "outputs": [],
   "source": [
    "im1"
   ]
  },
  {
   "cell_type": "code",
   "execution_count": null,
   "id": "f40f6a2e-f0a0-46f6-9423-d2a52020418e",
   "metadata": {},
   "outputs": [],
   "source": [
    "im1[1].header"
   ]
  },
  {
   "cell_type": "code",
   "execution_count": null,
   "id": "39a00c93-fba7-48b2-9122-79d58475b485",
   "metadata": {},
   "outputs": [],
   "source": [
    "import pylab as pl\n",
    "pl.rcParams['figure.facecolor'] = 'w'"
   ]
  },
  {
   "cell_type": "code",
   "execution_count": null,
   "id": "4c42a534-956b-45a4-b5eb-95bc6a5647b1",
   "metadata": {},
   "outputs": [],
   "source": [
    "from astropy.wcs import WCS"
   ]
  },
  {
   "cell_type": "code",
   "execution_count": null,
   "id": "0b71ceba-cd96-41be-ac52-c48517374c1f",
   "metadata": {},
   "outputs": [],
   "source": [
    "from astropy.visualization import simple_norm"
   ]
  },
  {
   "cell_type": "code",
   "execution_count": null,
   "id": "201237d9-f854-4a49-b611-fda6012b3577",
   "metadata": {},
   "outputs": [],
   "source": [
    "ww.wcs.ctype"
   ]
  },
  {
   "cell_type": "code",
   "execution_count": null,
   "id": "e4191527-054e-439a-8e5d-224a4aeb6b49",
   "metadata": {},
   "outputs": [],
   "source": [
    "ww.wcs.ctype"
   ]
  },
  {
   "cell_type": "code",
   "execution_count": null,
   "id": "15e0f302-c92b-4457-a157-78f31d7bd490",
   "metadata": {},
   "outputs": [],
   "source": [
    "from astropy.table import Table\n",
    "from astropy.coordinates import SkyCoord\n",
    "from astropy import wcs"
   ]
  },
  {
   "cell_type": "code",
   "execution_count": null,
   "id": "36a7ef6e-baa6-4b33-9d7c-bb1265c167b4",
   "metadata": {},
   "outputs": [],
   "source": [
    "tbl = Table.read('jw02731-o001_t017_nircam_clear-f187n_cat.ecsv')\n",
    "ww = wcs.WCS(fits.getheader('/orange/adamginsburg/jwst/jw02731/L3/t/jw02731-o001_t017_nircam_clear-f187n_i2d.fits', ext=1))\n",
    "coords = SkyCoord(ww.pixel_to_world(tbl['xcentroid'], tbl['ycentroid']), frame=ww.wcs.radesys.lower())"
   ]
  },
  {
   "cell_type": "code",
   "execution_count": null,
   "id": "5dc13c48-9431-416f-9324-fa70cb4922cd",
   "metadata": {},
   "outputs": [],
   "source": [
    "coords"
   ]
  },
  {
   "cell_type": "code",
   "execution_count": null,
   "id": "45402cf7-8511-485f-89f2-815380b9c24a",
   "metadata": {},
   "outputs": [],
   "source": [
    "pl.figure(figsize=(10,10))\n",
    "ww = WCS(im1[1].header)[4500:5500,8500:9500]\n",
    "ww.wcs.crpix[:] = ww.wcs.crpix[::-1]\n",
    "ww.wcs.crval[:] = ww.wcs.crval[::-1]\n",
    "ww.wcs.ctype[0], ww.wcs.ctype[1] = ww.wcs.ctype[1], ww.wcs.ctype[0]\n",
    "\n",
    "\n",
    "ax = pl.subplot(projection=ww)\n",
    "ax.imshow(im1[1].data[4500:5500,8500:9500], norm=simple_norm(im1[1].data[4500:5500,8500:9500], max_percent=99.95))\n",
    "axis=ax.axis()\n",
    "ax.plot(coords.ra, coords.dec, 'wx', transform=ax.get_transform('world'))\n",
    "ax.axis(axis)\n",
    "\n",
    "\n",
    "lon = ax.coords[0]\n",
    "lat = ax.coords[1]\n",
    "lon.set_major_formatter('dd:mm:ss.ssss')\n",
    "lat.set_major_formatter('dd:mm:ss.ssss')\n",
    "lon.set_ticks(spacing=1. * u.arcsec)\n",
    "lat.set_ticks(spacing=1. * u.arcsec)\n",
    "\n"
   ]
  },
  {
   "cell_type": "code",
   "execution_count": null,
   "id": "6bba889b-7a10-42b7-9668-a48798c517ff",
   "metadata": {},
   "outputs": [],
   "source": []
  },
  {
   "cell_type": "code",
   "execution_count": null,
   "id": "fca89f60-8821-476e-b18e-503e3326f93e",
   "metadata": {},
   "outputs": [],
   "source": [
    "pl.figure(figsize=(10,10))\n",
    "ww = WCS(im1[1].header)[4500:5500,8500:9500]\n",
    "ax = pl.subplot(projection=ww)\n",
    "ax.imshow(im1[1].data[4500:5500,8500:9500], norm=simple_norm(im1[1].data[4500:5500,8500:9500], max_percent=99.95))\n",
    "\n",
    "lon = ax.coords[0]\n",
    "lat = ax.coords[1]\n",
    "lon.set_major_formatter('dd:mm:ss.ssss')\n",
    "lat.set_major_formatter('dd:mm:ss.ssss')\n",
    "lon.set_ticks(spacing=1. * u.arcsec)\n",
    "lat.set_ticks(spacing=1. * u.arcsec)\n",
    "\n"
   ]
  },
  {
   "cell_type": "code",
   "execution_count": null,
   "id": "020651d6-6b66-458c-a850-6c5237f1923e",
   "metadata": {},
   "outputs": [],
   "source": [
    "lon.set_ticks?"
   ]
  },
  {
   "cell_type": "code",
   "execution_count": null,
   "id": "2ce2aaa0-91bf-4acf-a4dc-36887d9c08b0",
   "metadata": {},
   "outputs": [],
   "source": []
  },
  {
   "cell_type": "code",
   "execution_count": null,
   "id": "86ba5e06-b72a-4edb-b06d-8a40007a8e75",
   "metadata": {},
   "outputs": [],
   "source": [
    "from astropy import units as u, constants"
   ]
  },
  {
   "cell_type": "code",
   "execution_count": null,
   "id": "de8e3c48-d273-4d55-97b3-8951622a13a0",
   "metadata": {},
   "outputs": [],
   "source": [
    "from astroquery.hitran import Hitran\n",
    "tbl = Hitran.query_lines(molecule_number=45,\n",
    "                           isotopologue_number=1,\n",
    "                           min_frequency=(30*u.um).to(u.THz, u.spectral()),\n",
    "                           max_frequency=(0.9*u.um).to(u.THz, u.spectral()))\n",
    "tbl['branch'] = [x[5] for x in tbl['local_lower_quanta']]\n",
    "delta = {'S': 2, 'R': 1, 'Q': 0, 'P': -1, 'O': -2}\n",
    "tbl['jl'] = [int(x.split()[1].strip('q')) for x in tbl['local_lower_quanta']]\n",
    "tbl['ju'] = [LL + delta[BB] for LL,BB in zip(tbl['jl'], tbl['branch'])]\n",
    "tbl['wl'] = (tbl['nu']*u.cm**-1).to(u.um, u.spectral())\n",
    "tbl['el_K'] = (tbl['elower']*u.cm**-1 * constants.c * constants.h / constants.k_B).to(u.K)\n",
    "tbl['global_lower_quanta'] = tbl['global_lower_quanta'].astype('int')\n",
    "tbl['global_upper_quanta'] = tbl['global_upper_quanta'].astype('int')"
   ]
  },
  {
   "cell_type": "code",
   "execution_count": null,
   "id": "f7f909bf-65f1-49d1-b016-525e46af4fe2",
   "metadata": {},
   "outputs": [],
   "source": [
    "tbl[[(tbl['jl'] == 9) & (tbl['ju'] == 11) &\n",
    "            (tbl['global_lower_quanta'].astype('int') == 0) &\n",
    "            (tbl['global_upper_quanta'].astype('int') == 0)]]['ju', 'jl', 'wl', 'el_K', 'a', 'global_upper_quanta', 'global_lower_quanta']"
   ]
  },
  {
   "cell_type": "code",
   "execution_count": null,
   "id": "40e8c8f5-fc53-4faa-abaa-03d58abbd735",
   "metadata": {},
   "outputs": [],
   "source": [
    "# F323N\n",
    "tbl[[(tbl['jl'] == 5) & (tbl['ju'] == 3) &\n",
    "            (tbl['global_lower_quanta'].astype('int') == 0) &\n",
    "            (tbl['global_upper_quanta'].astype('int') == 1)]]['ju', 'jl', 'wl', 'el_K', 'a','global_upper_quanta',  'global_lower_quanta']"
   ]
  },
  {
   "cell_type": "code",
   "execution_count": null,
   "id": "061e4b22-6846-4092-a1c2-3fc4dbe0ad6f",
   "metadata": {},
   "outputs": [],
   "source": [
    "# F323N\n",
    "tbl[[(tbl['jl'] == 1) & (tbl['ju'] == 3) &\n",
    "            (tbl['global_lower_quanta'].astype('int') == 0) &\n",
    "            (tbl['global_upper_quanta'].astype('int') == 1)]]['ju', 'jl', 'wl', 'el_K', 'a','global_upper_quanta',  'global_lower_quanta']"
   ]
  },
  {
   "cell_type": "code",
   "execution_count": null,
   "id": "6fe84701-6796-4073-9c07-115fb6d89b36",
   "metadata": {},
   "outputs": [],
   "source": [
    "tbl[(tbl['wl'] > 3.21*u.um) & (tbl['wl'] < 3.26*u.um)]['ju', 'jl', 'wl', 'el_K', 'a', 'global_upper_quanta', 'global_lower_quanta']"
   ]
  },
  {
   "cell_type": "markdown",
   "id": "510f051e-6edc-457c-9d9a-8534c596141b",
   "metadata": {},
   "source": [
    "Collision Rate coefficients:\n",
    "\n",
    "https://ui.adsabs.harvard.edu/#abs/2021A%26A...647A.155H"
   ]
  },
  {
   "cell_type": "code",
   "execution_count": null,
   "id": "25da82eb-87a7-4235-b981-6d7aeb2be0e6",
   "metadata": {},
   "outputs": [],
   "source": []
  },
  {
   "cell_type": "code",
   "execution_count": null,
   "id": "abf91929-18a4-4405-9543-ce11b2ae961e",
   "metadata": {},
   "outputs": [],
   "source": [
    "from astroquery.gaia import Gaia"
   ]
  },
  {
   "cell_type": "code",
   "execution_count": null,
   "id": "31c7a87c-21c0-4492-b527-8c6daa52a938",
   "metadata": {},
   "outputs": [],
   "source": [
    "hdr = fits.getheader('/orange/adamginsburg/jwst/jw02731/L3/t/jw02731-o001_t017_nircam_clear-f187n_i2d.fits', ext=1)\n",
    "ww = wcs.WCS(hdr)\n",
    "blc = ww.pixel_to_world(0,0)\n",
    "trc = ww.pixel_to_world(hdr['NAXIS1'], hdr['NAXIS2'])\n",
    "blc, trc"
   ]
  },
  {
   "cell_type": "code",
   "execution_count": null,
   "id": "30c09cf5-a1e6-4abc-8bd3-f97bd8b41508",
   "metadata": {},
   "outputs": [],
   "source": [
    "import astropy.units as u\n",
    "from astropy.coordinates import SkyCoord\n",
    "from astroquery.gaia import Gaia\n",
    "coord = SkyCoord(ra=(blc.ra+trc.ra)/2, dec=(blc.dec+trc.dec)/2, frame='icrs')\n",
    "width = np.abs(trc.ra-blc.ra)\n",
    "height = np.abs(trc.dec-blc.dec)\n",
    "Gaia.ROW_LIMIT=-1\n",
    "rr = Gaia.query_object(coordinate=coord, width=width, height=height)\n",
    "rr.pprint(max_lines=12, max_width=130)"
   ]
  },
  {
   "cell_type": "code",
   "execution_count": null,
   "id": "eb318033-32ac-4fc6-b568-da47f08d44fd",
   "metadata": {},
   "outputs": [],
   "source": [
    "rr.write('GAIA_catalog.ecsv')"
   ]
  },
  {
   "cell_type": "code",
   "execution_count": null,
   "id": "971b7a9b-6761-45c0-8eb8-f0e9fe1c5bd9",
   "metadata": {},
   "outputs": [],
   "source": [
    "pwd"
   ]
  },
  {
   "cell_type": "code",
   "execution_count": null,
   "id": "1eb5d27c-ea86-46fe-9c3e-c6c82287cfda",
   "metadata": {},
   "outputs": [],
   "source": []
  },
  {
   "cell_type": "code",
   "execution_count": null,
   "id": "3dd45aa2-6547-44e0-ac7d-d959aeb020a2",
   "metadata": {},
   "outputs": [],
   "source": []
  },
  {
   "cell_type": "code",
   "execution_count": null,
   "id": "77c10867-9c86-4b4b-9914-81af32cb23e4",
   "metadata": {},
   "outputs": [],
   "source": []
  },
  {
   "cell_type": "markdown",
   "id": "98db7193-5e97-4e1f-ae36-cf50668b0946",
   "metadata": {},
   "source": [
    "# Photometry"
   ]
  },
  {
   "cell_type": "code",
   "execution_count": 3,
   "id": "5e81c62c-7d94-4fc3-8c46-7df3d51a636e",
   "metadata": {},
   "outputs": [
    {
     "name": "stdout",
     "output_type": "stream",
     "text": [
      "/orange/adamginsburg/jwst/jw02731/L3/t\n"
     ]
    }
   ],
   "source": [
    "cd /orange/adamginsburg/jwst/jw02731/L3/t/"
   ]
  },
  {
   "cell_type": "code",
   "execution_count": 4,
   "id": "5b205161-ebc9-4680-8f10-a877e5d8185f",
   "metadata": {},
   "outputs": [
    {
     "name": "stdout",
     "output_type": "stream",
     "text": [
      "jw02731-o001_t017_nircam_clear-f090w_cat.ecsv\n",
      "jw02731-o001_t017_nircam_clear-f187n_cat.ecsv\n",
      "jw02731-o001_t017_nircam_clear-f200w_cat.ecsv\n",
      "jw02731-o001_t017_nircam_clear-f335m_cat.ecsv\n",
      "jw02731-o001_t017_nircam_clear-f444w_cat.ecsv\n",
      "jw02731-o001_t017_nircam_f444w-f470n_cat.ecsv\n",
      "jw02731-o002_t017_miri_f1130w_cat.ecsv\n",
      "jw02731-o002_t017_miri_f1280w_cat.ecsv\n",
      "jw02731-o002_t017_miri_f1800w_cat.ecsv\n",
      "jw02731-o002_t017_miri_f770w_cat.ecsv\n"
     ]
    }
   ],
   "source": [
    "ls *cat.ecsv"
   ]
  },
  {
   "cell_type": "code",
   "execution_count": null,
   "id": "93867779-64b1-440c-992b-b0b0c20c0a05",
   "metadata": {},
   "outputs": [],
   "source": [
    "\n",
    "tbl = Table.read('jw02731-o001_t017_nircam_clear-f187n_cat.ecsv')\n"
   ]
  }
 ],
 "metadata": {
  "kernelspec": {
   "display_name": "python39",
   "language": "python",
   "name": "python39"
  },
  "language_info": {
   "codemirror_mode": {
    "name": "ipython",
    "version": 3
   },
   "file_extension": ".py",
   "mimetype": "text/x-python",
   "name": "python",
   "nbconvert_exporter": "python",
   "pygments_lexer": "ipython3",
   "version": "3.9.7"
  }
 },
 "nbformat": 4,
 "nbformat_minor": 5
}
